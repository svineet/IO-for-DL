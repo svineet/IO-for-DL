{
 "cells": [
  {
   "cell_type": "code",
   "execution_count": 60,
   "id": "f8df1223",
   "metadata": {},
   "outputs": [],
   "source": [
    "import pandas as pd\n",
    "import numpy as np\n",
    "\n",
    "import matplotlib\n",
    "from matplotlib import pyplot as plt\n",
    "\n",
    "import plotly\n",
    "import seaborn as sns\n",
    "\n",
    "\n",
    "matplotlib.rcParams['figure.dpi'] = 500\n",
    "\n",
    "%matplotlib inline"
   ]
  },
  {
   "cell_type": "markdown",
   "id": "0c430aa1",
   "metadata": {},
   "source": [
    "DL jobs filtered from Titan by keyword\n",
    "===\n",
    "\n",
    "1. Caffe: Deep learning framework (6112)\n",
    "2. LeNet: Original LeNet model (345)\n",
    "3. MENNDL: Hyperparameter tuning along with model training (366)\n",
    "4. Cifar10: Dataset for Computer Vision models (10)\n",
    "5. AlexNet: Modified 2012 AlexNet model (3)\n",
    "6. ImageNet: training scripts related to ImageNet challenge (198)\n",
    "\n",
    "Total: 7034 jobs"
   ]
  },
  {
   "cell_type": "code",
   "execution_count": 61,
   "id": "70746032",
   "metadata": {},
   "outputs": [
    {
     "data": {
      "text/html": [
       "<div>\n",
       "<style scoped>\n",
       "    .dataframe tbody tr th:only-of-type {\n",
       "        vertical-align: middle;\n",
       "    }\n",
       "\n",
       "    .dataframe tbody tr th {\n",
       "        vertical-align: top;\n",
       "    }\n",
       "\n",
       "    .dataframe thead th {\n",
       "        text-align: right;\n",
       "    }\n",
       "</style>\n",
       "<table border=\"1\" class=\"dataframe\">\n",
       "  <thead>\n",
       "    <tr style=\"text-align: right;\">\n",
       "      <th></th>\n",
       "      <th>user_id</th>\n",
       "      <th>start_time</th>\n",
       "      <th>end_time</th>\n",
       "      <th>stime</th>\n",
       "      <th>utime</th>\n",
       "      <th>alps_exit</th>\n",
       "      <th>alps_nppn</th>\n",
       "      <th>alps_width</th>\n",
       "      <th>alps_resid</th>\n",
       "      <th>aprun_id</th>\n",
       "      <th>...</th>\n",
       "      <th>max_rss</th>\n",
       "      <th>rchar</th>\n",
       "      <th>wchar</th>\n",
       "      <th>gpu_mode</th>\n",
       "      <th>gpu_pids</th>\n",
       "      <th>gpu_secs</th>\n",
       "      <th>gpu_maxsecs</th>\n",
       "      <th>gpu_maxmem</th>\n",
       "      <th>gpu_summem</th>\n",
       "      <th>duration</th>\n",
       "    </tr>\n",
       "  </thead>\n",
       "  <tbody>\n",
       "    <tr>\n",
       "      <th>0</th>\n",
       "      <td>User761</td>\n",
       "      <td>2016-06-18 01:07:13.309457</td>\n",
       "      <td>2016-06-18 03:07:10.803898</td>\n",
       "      <td>6.091610e+10</td>\n",
       "      <td>2.019172e+11</td>\n",
       "      <td>0.0</td>\n",
       "      <td>0.0</td>\n",
       "      <td>32.0</td>\n",
       "      <td>454477.0</td>\n",
       "      <td>11429660.0</td>\n",
       "      <td>...</td>\n",
       "      <td>13687996.0</td>\n",
       "      <td>1.067671e+11</td>\n",
       "      <td>2.936535e+09</td>\n",
       "      <td>exclusive_process</td>\n",
       "      <td>1.0</td>\n",
       "      <td>57993.0</td>\n",
       "      <td>57993.0</td>\n",
       "      <td>1.101398e+09</td>\n",
       "      <td>1.431817e+10</td>\n",
       "      <td>7197.494441</td>\n",
       "    </tr>\n",
       "    <tr>\n",
       "      <th>1</th>\n",
       "      <td>User761</td>\n",
       "      <td>2016-06-18 01:07:13.519631</td>\n",
       "      <td>2016-06-18 03:07:10.806795</td>\n",
       "      <td>5.758180e+10</td>\n",
       "      <td>2.119892e+11</td>\n",
       "      <td>0.0</td>\n",
       "      <td>0.0</td>\n",
       "      <td>32.0</td>\n",
       "      <td>454477.0</td>\n",
       "      <td>11429661.0</td>\n",
       "      <td>...</td>\n",
       "      <td>13671428.0</td>\n",
       "      <td>1.290397e+11</td>\n",
       "      <td>1.471863e+09</td>\n",
       "      <td>exclusive_process</td>\n",
       "      <td>1.0</td>\n",
       "      <td>15543.0</td>\n",
       "      <td>15543.0</td>\n",
       "      <td>1.131545e+09</td>\n",
       "      <td>3.394634e+09</td>\n",
       "      <td>7197.287164</td>\n",
       "    </tr>\n",
       "    <tr>\n",
       "      <th>2</th>\n",
       "      <td>User761</td>\n",
       "      <td>2016-06-18 01:07:13.309570</td>\n",
       "      <td>2016-06-18 03:07:10.801446</td>\n",
       "      <td>5.570428e+10</td>\n",
       "      <td>2.192665e+11</td>\n",
       "      <td>0.0</td>\n",
       "      <td>0.0</td>\n",
       "      <td>32.0</td>\n",
       "      <td>454477.0</td>\n",
       "      <td>11429659.0</td>\n",
       "      <td>...</td>\n",
       "      <td>13671720.0</td>\n",
       "      <td>1.537514e+11</td>\n",
       "      <td>1.060735e+09</td>\n",
       "      <td>exclusive_process</td>\n",
       "      <td>1.0</td>\n",
       "      <td>10650.0</td>\n",
       "      <td>10650.0</td>\n",
       "      <td>1.007944e+09</td>\n",
       "      <td>2.015887e+09</td>\n",
       "      <td>7197.491876</td>\n",
       "    </tr>\n",
       "    <tr>\n",
       "      <th>3</th>\n",
       "      <td>User761</td>\n",
       "      <td>2016-06-18 01:07:13.300061</td>\n",
       "      <td>2016-06-18 03:07:10.803999</td>\n",
       "      <td>5.945875e+10</td>\n",
       "      <td>2.164348e+11</td>\n",
       "      <td>0.0</td>\n",
       "      <td>0.0</td>\n",
       "      <td>32.0</td>\n",
       "      <td>454477.0</td>\n",
       "      <td>11429658.0</td>\n",
       "      <td>...</td>\n",
       "      <td>13675464.0</td>\n",
       "      <td>1.436618e+11</td>\n",
       "      <td>9.907408e+08</td>\n",
       "      <td>exclusive_process</td>\n",
       "      <td>1.0</td>\n",
       "      <td>51804.0</td>\n",
       "      <td>51804.0</td>\n",
       "      <td>1.140064e+09</td>\n",
       "      <td>1.026058e+10</td>\n",
       "      <td>7197.503938</td>\n",
       "    </tr>\n",
       "    <tr>\n",
       "      <th>4</th>\n",
       "      <td>User761</td>\n",
       "      <td>2016-03-29 04:52:36.064585</td>\n",
       "      <td>2016-03-29 06:52:33.524497</td>\n",
       "      <td>3.220305e+10</td>\n",
       "      <td>1.050159e+11</td>\n",
       "      <td>0.0</td>\n",
       "      <td>0.0</td>\n",
       "      <td>16.0</td>\n",
       "      <td>361035.0</td>\n",
       "      <td>10557045.0</td>\n",
       "      <td>...</td>\n",
       "      <td>14601860.0</td>\n",
       "      <td>1.809045e+10</td>\n",
       "      <td>2.931049e+07</td>\n",
       "      <td>exclusive_process</td>\n",
       "      <td>1.0</td>\n",
       "      <td>89714.0</td>\n",
       "      <td>89714.0</td>\n",
       "      <td>2.358641e+09</td>\n",
       "      <td>3.302097e+10</td>\n",
       "      <td>7197.459912</td>\n",
       "    </tr>\n",
       "    <tr>\n",
       "      <th>...</th>\n",
       "      <td>...</td>\n",
       "      <td>...</td>\n",
       "      <td>...</td>\n",
       "      <td>...</td>\n",
       "      <td>...</td>\n",
       "      <td>...</td>\n",
       "      <td>...</td>\n",
       "      <td>...</td>\n",
       "      <td>...</td>\n",
       "      <td>...</td>\n",
       "      <td>...</td>\n",
       "      <td>...</td>\n",
       "      <td>...</td>\n",
       "      <td>...</td>\n",
       "      <td>...</td>\n",
       "      <td>...</td>\n",
       "      <td>...</td>\n",
       "      <td>...</td>\n",
       "      <td>...</td>\n",
       "      <td>...</td>\n",
       "      <td>...</td>\n",
       "    </tr>\n",
       "    <tr>\n",
       "      <th>7019</th>\n",
       "      <td>User761</td>\n",
       "      <td>2016-06-17 21:51:57.853076</td>\n",
       "      <td>2016-06-17 23:51:55.295370</td>\n",
       "      <td>5.386442e+10</td>\n",
       "      <td>2.111484e+11</td>\n",
       "      <td>0.0</td>\n",
       "      <td>0.0</td>\n",
       "      <td>32.0</td>\n",
       "      <td>454346.0</td>\n",
       "      <td>11428975.0</td>\n",
       "      <td>...</td>\n",
       "      <td>13674216.0</td>\n",
       "      <td>1.234552e+11</td>\n",
       "      <td>1.350403e+09</td>\n",
       "      <td>exclusive_process</td>\n",
       "      <td>1.0</td>\n",
       "      <td>91724.0</td>\n",
       "      <td>91724.0</td>\n",
       "      <td>1.131545e+09</td>\n",
       "      <td>2.149935e+10</td>\n",
       "      <td>7197.442294</td>\n",
       "    </tr>\n",
       "    <tr>\n",
       "      <th>7020</th>\n",
       "      <td>User761</td>\n",
       "      <td>2016-06-17 21:51:57.852363</td>\n",
       "      <td>2016-06-17 23:51:55.292697</td>\n",
       "      <td>5.522622e+10</td>\n",
       "      <td>2.142101e+11</td>\n",
       "      <td>0.0</td>\n",
       "      <td>0.0</td>\n",
       "      <td>32.0</td>\n",
       "      <td>454346.0</td>\n",
       "      <td>11428972.0</td>\n",
       "      <td>...</td>\n",
       "      <td>13652800.0</td>\n",
       "      <td>1.349825e+11</td>\n",
       "      <td>9.063731e+08</td>\n",
       "      <td>exclusive_process</td>\n",
       "      <td>1.0</td>\n",
       "      <td>74508.0</td>\n",
       "      <td>74508.0</td>\n",
       "      <td>1.140064e+09</td>\n",
       "      <td>1.596090e+10</td>\n",
       "      <td>7197.440334</td>\n",
       "    </tr>\n",
       "    <tr>\n",
       "      <th>7021</th>\n",
       "      <td>User761</td>\n",
       "      <td>2016-06-17 21:51:57.865834</td>\n",
       "      <td>2016-06-17 23:51:55.296449</td>\n",
       "      <td>5.102610e+10</td>\n",
       "      <td>2.167314e+11</td>\n",
       "      <td>0.0</td>\n",
       "      <td>0.0</td>\n",
       "      <td>32.0</td>\n",
       "      <td>454346.0</td>\n",
       "      <td>11428974.0</td>\n",
       "      <td>...</td>\n",
       "      <td>13649696.0</td>\n",
       "      <td>1.438438e+11</td>\n",
       "      <td>9.196036e+08</td>\n",
       "      <td>exclusive_process</td>\n",
       "      <td>1.0</td>\n",
       "      <td>67984.0</td>\n",
       "      <td>67984.0</td>\n",
       "      <td>1.007944e+09</td>\n",
       "      <td>1.411121e+10</td>\n",
       "      <td>7197.430615</td>\n",
       "    </tr>\n",
       "    <tr>\n",
       "      <th>7022</th>\n",
       "      <td>User761</td>\n",
       "      <td>2016-03-29 00:49:29.902491</td>\n",
       "      <td>2016-03-29 02:49:34.810310</td>\n",
       "      <td>1.562879e+10</td>\n",
       "      <td>2.439110e+10</td>\n",
       "      <td>0.0</td>\n",
       "      <td>0.0</td>\n",
       "      <td>16.0</td>\n",
       "      <td>360889.0</td>\n",
       "      <td>10556388.0</td>\n",
       "      <td>...</td>\n",
       "      <td>14622312.0</td>\n",
       "      <td>2.122586e+09</td>\n",
       "      <td>1.117774e+07</td>\n",
       "      <td>exclusive_process</td>\n",
       "      <td>1.0</td>\n",
       "      <td>6549.0</td>\n",
       "      <td>6549.0</td>\n",
       "      <td>2.358641e+09</td>\n",
       "      <td>2.358641e+09</td>\n",
       "      <td>7204.907819</td>\n",
       "    </tr>\n",
       "    <tr>\n",
       "      <th>7023</th>\n",
       "      <td>User761</td>\n",
       "      <td>2016-03-29 00:49:29.926590</td>\n",
       "      <td>2016-03-29 02:49:34.814596</td>\n",
       "      <td>3.322647e+10</td>\n",
       "      <td>1.131039e+11</td>\n",
       "      <td>0.0</td>\n",
       "      <td>0.0</td>\n",
       "      <td>16.0</td>\n",
       "      <td>360889.0</td>\n",
       "      <td>10556387.0</td>\n",
       "      <td>...</td>\n",
       "      <td>14636248.0</td>\n",
       "      <td>5.318218e+10</td>\n",
       "      <td>6.574064e+07</td>\n",
       "      <td>exclusive_process</td>\n",
       "      <td>1.0</td>\n",
       "      <td>91320.0</td>\n",
       "      <td>91320.0</td>\n",
       "      <td>1.230373e+09</td>\n",
       "      <td>1.968597e+10</td>\n",
       "      <td>7204.888006</td>\n",
       "    </tr>\n",
       "  </tbody>\n",
       "</table>\n",
       "<p>7024 rows × 22 columns</p>\n",
       "</div>"
      ],
      "text/plain": [
       "      user_id                 start_time                   end_time  \\\n",
       "0     User761 2016-06-18 01:07:13.309457 2016-06-18 03:07:10.803898   \n",
       "1     User761 2016-06-18 01:07:13.519631 2016-06-18 03:07:10.806795   \n",
       "2     User761 2016-06-18 01:07:13.309570 2016-06-18 03:07:10.801446   \n",
       "3     User761 2016-06-18 01:07:13.300061 2016-06-18 03:07:10.803999   \n",
       "4     User761 2016-03-29 04:52:36.064585 2016-03-29 06:52:33.524497   \n",
       "...       ...                        ...                        ...   \n",
       "7019  User761 2016-06-17 21:51:57.853076 2016-06-17 23:51:55.295370   \n",
       "7020  User761 2016-06-17 21:51:57.852363 2016-06-17 23:51:55.292697   \n",
       "7021  User761 2016-06-17 21:51:57.865834 2016-06-17 23:51:55.296449   \n",
       "7022  User761 2016-03-29 00:49:29.902491 2016-03-29 02:49:34.810310   \n",
       "7023  User761 2016-03-29 00:49:29.926590 2016-03-29 02:49:34.814596   \n",
       "\n",
       "             stime         utime  alps_exit  alps_nppn  alps_width  \\\n",
       "0     6.091610e+10  2.019172e+11        0.0        0.0        32.0   \n",
       "1     5.758180e+10  2.119892e+11        0.0        0.0        32.0   \n",
       "2     5.570428e+10  2.192665e+11        0.0        0.0        32.0   \n",
       "3     5.945875e+10  2.164348e+11        0.0        0.0        32.0   \n",
       "4     3.220305e+10  1.050159e+11        0.0        0.0        16.0   \n",
       "...            ...           ...        ...        ...         ...   \n",
       "7019  5.386442e+10  2.111484e+11        0.0        0.0        32.0   \n",
       "7020  5.522622e+10  2.142101e+11        0.0        0.0        32.0   \n",
       "7021  5.102610e+10  2.167314e+11        0.0        0.0        32.0   \n",
       "7022  1.562879e+10  2.439110e+10        0.0        0.0        16.0   \n",
       "7023  3.322647e+10  1.131039e+11        0.0        0.0        16.0   \n",
       "\n",
       "      alps_resid    aprun_id  ...     max_rss         rchar         wchar  \\\n",
       "0       454477.0  11429660.0  ...  13687996.0  1.067671e+11  2.936535e+09   \n",
       "1       454477.0  11429661.0  ...  13671428.0  1.290397e+11  1.471863e+09   \n",
       "2       454477.0  11429659.0  ...  13671720.0  1.537514e+11  1.060735e+09   \n",
       "3       454477.0  11429658.0  ...  13675464.0  1.436618e+11  9.907408e+08   \n",
       "4       361035.0  10557045.0  ...  14601860.0  1.809045e+10  2.931049e+07   \n",
       "...          ...         ...  ...         ...           ...           ...   \n",
       "7019    454346.0  11428975.0  ...  13674216.0  1.234552e+11  1.350403e+09   \n",
       "7020    454346.0  11428972.0  ...  13652800.0  1.349825e+11  9.063731e+08   \n",
       "7021    454346.0  11428974.0  ...  13649696.0  1.438438e+11  9.196036e+08   \n",
       "7022    360889.0  10556388.0  ...  14622312.0  2.122586e+09  1.117774e+07   \n",
       "7023    360889.0  10556387.0  ...  14636248.0  5.318218e+10  6.574064e+07   \n",
       "\n",
       "               gpu_mode  gpu_pids gpu_secs  gpu_maxsecs    gpu_maxmem  \\\n",
       "0     exclusive_process       1.0  57993.0      57993.0  1.101398e+09   \n",
       "1     exclusive_process       1.0  15543.0      15543.0  1.131545e+09   \n",
       "2     exclusive_process       1.0  10650.0      10650.0  1.007944e+09   \n",
       "3     exclusive_process       1.0  51804.0      51804.0  1.140064e+09   \n",
       "4     exclusive_process       1.0  89714.0      89714.0  2.358641e+09   \n",
       "...                 ...       ...      ...          ...           ...   \n",
       "7019  exclusive_process       1.0  91724.0      91724.0  1.131545e+09   \n",
       "7020  exclusive_process       1.0  74508.0      74508.0  1.140064e+09   \n",
       "7021  exclusive_process       1.0  67984.0      67984.0  1.007944e+09   \n",
       "7022  exclusive_process       1.0   6549.0       6549.0  2.358641e+09   \n",
       "7023  exclusive_process       1.0  91320.0      91320.0  1.230373e+09   \n",
       "\n",
       "        gpu_summem     duration  \n",
       "0     1.431817e+10  7197.494441  \n",
       "1     3.394634e+09  7197.287164  \n",
       "2     2.015887e+09  7197.491876  \n",
       "3     1.026058e+10  7197.503938  \n",
       "4     3.302097e+10  7197.459912  \n",
       "...            ...          ...  \n",
       "7019  2.149935e+10  7197.442294  \n",
       "7020  1.596090e+10  7197.440334  \n",
       "7021  1.411121e+10  7197.430615  \n",
       "7022  2.358641e+09  7204.907819  \n",
       "7023  1.968597e+10  7204.888006  \n",
       "\n",
       "[7024 rows x 22 columns]"
      ]
     },
     "execution_count": 61,
     "metadata": {},
     "output_type": "execute_result"
    }
   ],
   "source": [
    "df = pd.read_csv(\"TitanRUR/titan_dl_jobs.csv\")\n",
    "\n",
    "df['start_time'] = pd.to_datetime(df['start_time'])\n",
    "df['end_time'] = pd.to_datetime(df['end_time'])\n",
    "df['duration'] = (df['end_time'] - df['start_time'])/np.timedelta64(1, 's')\n",
    "\n",
    "df = df.drop(\"Unnamed: 0\", axis=1)\n",
    "\n",
    "df"
   ]
  },
  {
   "cell_type": "code",
   "execution_count": 62,
   "id": "223bdae2",
   "metadata": {},
   "outputs": [
    {
     "data": {
      "text/plain": [
       "Index(['user_id', 'start_time', 'end_time', 'stime', 'utime', 'alps_exit',\n",
       "       'alps_nppn', 'alps_width', 'alps_resid', 'aprun_id', 'command',\n",
       "       'node_count', 'max_rss', 'rchar', 'wchar', 'gpu_mode', 'gpu_pids',\n",
       "       'gpu_secs', 'gpu_maxsecs', 'gpu_maxmem', 'gpu_summem', 'duration'],\n",
       "      dtype='object')"
      ]
     },
     "execution_count": 62,
     "metadata": {},
     "output_type": "execute_result"
    }
   ],
   "source": [
    "df.columns"
   ]
  },
  {
   "cell_type": "code",
   "execution_count": 63,
   "id": "35454a55",
   "metadata": {},
   "outputs": [
    {
     "data": {
      "text/plain": [
       "0.0    7024\n",
       "Name: alps_exit, dtype: int64"
      ]
     },
     "execution_count": 63,
     "metadata": {},
     "output_type": "execute_result"
    }
   ],
   "source": [
    "df['alps_exit'].value_counts()"
   ]
  },
  {
   "cell_type": "code",
   "execution_count": 65,
   "id": "f8fcbb92",
   "metadata": {},
   "outputs": [
    {
     "data": {
      "text/plain": [
       "count     7024.000000\n",
       "mean        97.988753\n",
       "std        851.908540\n",
       "min          1.000000\n",
       "25%          4.000000\n",
       "50%         32.000000\n",
       "75%         32.000000\n",
       "max      18000.000000\n",
       "Name: node_count, dtype: float64"
      ]
     },
     "execution_count": 65,
     "metadata": {},
     "output_type": "execute_result"
    }
   ],
   "source": [
    "df['node_count'].describe()"
   ]
  },
  {
   "cell_type": "markdown",
   "id": "9fcb0786",
   "metadata": {},
   "source": [
    "Column wise statistics\n",
    "==="
   ]
  },
  {
   "cell_type": "code",
   "execution_count": 4,
   "id": "1c5a0ea0",
   "metadata": {},
   "outputs": [
    {
     "data": {
      "text/plain": [
       "count    7.024000e+03\n",
       "mean     1.360076e+11\n",
       "std      5.614691e+12\n",
       "min      8.813700e+04\n",
       "25%      1.103226e+09\n",
       "50%      2.695435e+10\n",
       "75%      4.550229e+10\n",
       "max      4.606884e+14\n",
       "Name: rchar, dtype: float64"
      ]
     },
     "execution_count": 4,
     "metadata": {},
     "output_type": "execute_result"
    }
   ],
   "source": [
    "df['rchar'].describe()"
   ]
  },
  {
   "cell_type": "code",
   "execution_count": 5,
   "id": "d836c641",
   "metadata": {},
   "outputs": [
    {
     "data": {
      "text/plain": [
       "count    7.024000e+03\n",
       "mean     8.002106e+10\n",
       "std      5.505326e+12\n",
       "min      3.230000e+02\n",
       "25%      1.805904e+08\n",
       "50%      4.289028e+08\n",
       "75%      9.443263e+08\n",
       "max      4.609600e+14\n",
       "Name: wchar, dtype: float64"
      ]
     },
     "execution_count": 5,
     "metadata": {},
     "output_type": "execute_result"
    }
   ],
   "source": [
    "df['wchar'].describe()"
   ]
  },
  {
   "cell_type": "code",
   "execution_count": 6,
   "id": "1e47b380",
   "metadata": {},
   "outputs": [
    {
     "data": {
      "text/plain": [
       "count    7.024000e+03\n",
       "mean     1.224322e+06\n",
       "std      2.270439e+07\n",
       "min      1.000000e+00\n",
       "25%      6.691750e+03\n",
       "50%      6.396350e+04\n",
       "75%      1.361480e+05\n",
       "max      1.162578e+09\n",
       "Name: gpu_secs, dtype: float64"
      ]
     },
     "execution_count": 6,
     "metadata": {},
     "output_type": "execute_result"
    }
   ],
   "source": [
    "df['gpu_secs'].describe()"
   ]
  },
  {
   "cell_type": "code",
   "execution_count": 6,
   "id": "773f6811",
   "metadata": {},
   "outputs": [
    {
     "data": {
      "text/plain": [
       "count     7024.000000\n",
       "mean      6149.879597\n",
       "std       5051.890442\n",
       "min          2.529163\n",
       "25%       3806.412096\n",
       "50%       7197.301876\n",
       "75%       7197.602400\n",
       "max      86400.255449\n",
       "Name: duration, dtype: float64"
      ]
     },
     "execution_count": 6,
     "metadata": {},
     "output_type": "execute_result"
    }
   ],
   "source": [
    "df['duration'].describe()"
   ]
  },
  {
   "cell_type": "code",
   "execution_count": 7,
   "id": "62565a7e",
   "metadata": {},
   "outputs": [
    {
     "data": {
      "text/plain": [
       "<AxesSubplot:>"
      ]
     },
     "execution_count": 7,
     "metadata": {},
     "output_type": "execute_result"
    },
    {
     "data": {
      "image/png": "[encoded data removed]",
      "text/plain": [
       "<Figure size 432x288 with 1 Axes>"
      ]
     },
     "metadata": {
      "needs_background": "light"
     },
     "output_type": "display_data"
    }
   ],
   "source": [
    "df['duration'].hist(bins=100)"
   ]
  },
  {
   "cell_type": "code",
   "execution_count": 8,
   "id": "655176f2",
   "metadata": {},
   "outputs": [
    {
     "data": {
      "text/plain": [
       "count     7024.000000\n",
       "mean        97.988753\n",
       "std        851.908540\n",
       "min          1.000000\n",
       "25%          4.000000\n",
       "50%         32.000000\n",
       "75%         32.000000\n",
       "max      18000.000000\n",
       "Name: node_count, dtype: float64"
      ]
     },
     "execution_count": 8,
     "metadata": {},
     "output_type": "execute_result"
    }
   ],
   "source": [
    "df['node_count'].describe()"
   ]
  },
  {
   "cell_type": "code",
   "execution_count": 9,
   "id": "8adde9ea",
   "metadata": {},
   "outputs": [
    {
     "data": {
      "text/plain": [
       "count    7.024000e+03\n",
       "mean     1.382142e+12\n",
       "std      2.902808e+13\n",
       "min      0.000000e+00\n",
       "25%      4.295361e+09\n",
       "50%      3.117626e+10\n",
       "75%      8.134204e+10\n",
       "max      1.987202e+15\n",
       "Name: gpu_summem, dtype: float64"
      ]
     },
     "execution_count": 9,
     "metadata": {},
     "output_type": "execute_result"
    }
   ],
   "source": [
    "df['gpu_summem'].describe()"
   ]
  },
  {
   "cell_type": "code",
   "execution_count": 10,
   "id": "523c4537",
   "metadata": {},
   "outputs": [
    {
     "data": {
      "text/plain": [
       "Index(['user_id', 'start_time', 'end_time', 'stime', 'utime', 'alps_exit',\n",
       "       'alps_nppn', 'alps_width', 'alps_resid', 'aprun_id', 'command',\n",
       "       'node_count', 'max_rss', 'rchar', 'wchar', 'gpu_mode', 'gpu_pids',\n",
       "       'gpu_secs', 'gpu_maxsecs', 'gpu_maxmem', 'gpu_summem', 'duration'],\n",
       "      dtype='object')"
      ]
     },
     "execution_count": 10,
     "metadata": {},
     "output_type": "execute_result"
    }
   ],
   "source": [
    "df.columns"
   ]
  },
  {
   "cell_type": "markdown",
   "id": "c94cef13",
   "metadata": {},
   "source": [
    "Project Area Analysis\n",
    "==="
   ]
  },
  {
   "cell_type": "code",
   "execution_count": 11,
   "id": "dea88e14",
   "metadata": {},
   "outputs": [],
   "source": [
    "df['proj_area'] = \"NA\"\n",
    "df['proj_science'] = \"NA\""
   ]
  },
  {
   "cell_type": "code",
   "execution_count": 12,
   "id": "653ae1e1",
   "metadata": {},
   "outputs": [
    {
     "name": "stderr",
     "output_type": "stream",
     "text": [
      "/tmp/ipykernel_49219/4097448927.py:7: SettingWithCopyWarning: \n",
      "A value is trying to be set on a copy of a slice from a DataFrame\n",
      "\n",
      "See the caveats in the documentation: https://pandas.pydata.org/pandas-docs/stable/user_guide/indexing.html#returning-a-view-versus-a-copy\n",
      "  df[\"proj_area\"][filt] = row['Area']\n",
      "/tmp/ipykernel_49219/4097448927.py:8: SettingWithCopyWarning: \n",
      "A value is trying to be set on a copy of a slice from a DataFrame\n",
      "\n",
      "See the caveats in the documentation: https://pandas.pydata.org/pandas-docs/stable/user_guide/indexing.html#returning-a-view-versus-a-copy\n",
      "  df[\"proj_science\"][filt] = row['Science']\n"
     ]
    }
   ],
   "source": [
    "proj = pd.read_csv(\"TitanRUR/ProjectAreas.csv\")\n",
    "\n",
    "for i, row in proj.iterrows():\n",
    "    area_code = row['ID']\n",
    "    filt = df['command'].str.contains(area_code)\n",
    "    \n",
    "    df[\"proj_area\"][filt] = row['Area']\n",
    "    df[\"proj_science\"][filt] = row['Science']"
   ]
  },
  {
   "cell_type": "code",
   "execution_count": 13,
   "id": "9246b575",
   "metadata": {
    "scrolled": false
   },
   "outputs": [
    {
     "data": {
      "text/html": [
       "<div>\n",
       "<style scoped>\n",
       "    .dataframe tbody tr th:only-of-type {\n",
       "        vertical-align: middle;\n",
       "    }\n",
       "\n",
       "    .dataframe tbody tr th {\n",
       "        vertical-align: top;\n",
       "    }\n",
       "\n",
       "    .dataframe thead th {\n",
       "        text-align: right;\n",
       "    }\n",
       "</style>\n",
       "<table border=\"1\" class=\"dataframe\">\n",
       "  <thead>\n",
       "    <tr style=\"text-align: right;\">\n",
       "      <th></th>\n",
       "      <th>user_id</th>\n",
       "      <th>start_time</th>\n",
       "      <th>end_time</th>\n",
       "      <th>stime</th>\n",
       "      <th>utime</th>\n",
       "      <th>alps_exit</th>\n",
       "      <th>alps_nppn</th>\n",
       "      <th>alps_width</th>\n",
       "      <th>alps_resid</th>\n",
       "      <th>aprun_id</th>\n",
       "      <th>...</th>\n",
       "      <th>wchar</th>\n",
       "      <th>gpu_mode</th>\n",
       "      <th>gpu_pids</th>\n",
       "      <th>gpu_secs</th>\n",
       "      <th>gpu_maxsecs</th>\n",
       "      <th>gpu_maxmem</th>\n",
       "      <th>gpu_summem</th>\n",
       "      <th>duration</th>\n",
       "      <th>proj_area</th>\n",
       "      <th>proj_science</th>\n",
       "    </tr>\n",
       "  </thead>\n",
       "  <tbody>\n",
       "    <tr>\n",
       "      <th>0</th>\n",
       "      <td>User761</td>\n",
       "      <td>2016-06-18 01:07:13.309457</td>\n",
       "      <td>2016-06-18 03:07:10.803898</td>\n",
       "      <td>6.091610e+10</td>\n",
       "      <td>2.019172e+11</td>\n",
       "      <td>0.0</td>\n",
       "      <td>0.0</td>\n",
       "      <td>32.0</td>\n",
       "      <td>454477.0</td>\n",
       "      <td>11429660.0</td>\n",
       "      <td>...</td>\n",
       "      <td>2.936535e+09</td>\n",
       "      <td>exclusive_process</td>\n",
       "      <td>1.0</td>\n",
       "      <td>57993.0</td>\n",
       "      <td>57993.0</td>\n",
       "      <td>1.101398e+09</td>\n",
       "      <td>1.431817e+10</td>\n",
       "      <td>7197.494441</td>\n",
       "      <td>Computer Science</td>\n",
       "      <td>Computer Science</td>\n",
       "    </tr>\n",
       "    <tr>\n",
       "      <th>1</th>\n",
       "      <td>User761</td>\n",
       "      <td>2016-06-18 01:07:13.519631</td>\n",
       "      <td>2016-06-18 03:07:10.806795</td>\n",
       "      <td>5.758180e+10</td>\n",
       "      <td>2.119892e+11</td>\n",
       "      <td>0.0</td>\n",
       "      <td>0.0</td>\n",
       "      <td>32.0</td>\n",
       "      <td>454477.0</td>\n",
       "      <td>11429661.0</td>\n",
       "      <td>...</td>\n",
       "      <td>1.471863e+09</td>\n",
       "      <td>exclusive_process</td>\n",
       "      <td>1.0</td>\n",
       "      <td>15543.0</td>\n",
       "      <td>15543.0</td>\n",
       "      <td>1.131545e+09</td>\n",
       "      <td>3.394634e+09</td>\n",
       "      <td>7197.287164</td>\n",
       "      <td>Computer Science</td>\n",
       "      <td>Computer Science</td>\n",
       "    </tr>\n",
       "    <tr>\n",
       "      <th>2</th>\n",
       "      <td>User761</td>\n",
       "      <td>2016-06-18 01:07:13.309570</td>\n",
       "      <td>2016-06-18 03:07:10.801446</td>\n",
       "      <td>5.570428e+10</td>\n",
       "      <td>2.192665e+11</td>\n",
       "      <td>0.0</td>\n",
       "      <td>0.0</td>\n",
       "      <td>32.0</td>\n",
       "      <td>454477.0</td>\n",
       "      <td>11429659.0</td>\n",
       "      <td>...</td>\n",
       "      <td>1.060735e+09</td>\n",
       "      <td>exclusive_process</td>\n",
       "      <td>1.0</td>\n",
       "      <td>10650.0</td>\n",
       "      <td>10650.0</td>\n",
       "      <td>1.007944e+09</td>\n",
       "      <td>2.015887e+09</td>\n",
       "      <td>7197.491876</td>\n",
       "      <td>Computer Science</td>\n",
       "      <td>Computer Science</td>\n",
       "    </tr>\n",
       "    <tr>\n",
       "      <th>3</th>\n",
       "      <td>User761</td>\n",
       "      <td>2016-06-18 01:07:13.300061</td>\n",
       "      <td>2016-06-18 03:07:10.803999</td>\n",
       "      <td>5.945875e+10</td>\n",
       "      <td>2.164348e+11</td>\n",
       "      <td>0.0</td>\n",
       "      <td>0.0</td>\n",
       "      <td>32.0</td>\n",
       "      <td>454477.0</td>\n",
       "      <td>11429658.0</td>\n",
       "      <td>...</td>\n",
       "      <td>9.907408e+08</td>\n",
       "      <td>exclusive_process</td>\n",
       "      <td>1.0</td>\n",
       "      <td>51804.0</td>\n",
       "      <td>51804.0</td>\n",
       "      <td>1.140064e+09</td>\n",
       "      <td>1.026058e+10</td>\n",
       "      <td>7197.503938</td>\n",
       "      <td>Computer Science</td>\n",
       "      <td>Computer Science</td>\n",
       "    </tr>\n",
       "    <tr>\n",
       "      <th>4</th>\n",
       "      <td>User761</td>\n",
       "      <td>2016-03-29 04:52:36.064585</td>\n",
       "      <td>2016-03-29 06:52:33.524497</td>\n",
       "      <td>3.220305e+10</td>\n",
       "      <td>1.050159e+11</td>\n",
       "      <td>0.0</td>\n",
       "      <td>0.0</td>\n",
       "      <td>16.0</td>\n",
       "      <td>361035.0</td>\n",
       "      <td>10557045.0</td>\n",
       "      <td>...</td>\n",
       "      <td>2.931049e+07</td>\n",
       "      <td>exclusive_process</td>\n",
       "      <td>1.0</td>\n",
       "      <td>89714.0</td>\n",
       "      <td>89714.0</td>\n",
       "      <td>2.358641e+09</td>\n",
       "      <td>3.302097e+10</td>\n",
       "      <td>7197.459912</td>\n",
       "      <td>Computer Science</td>\n",
       "      <td>Computer Science</td>\n",
       "    </tr>\n",
       "    <tr>\n",
       "      <th>...</th>\n",
       "      <td>...</td>\n",
       "      <td>...</td>\n",
       "      <td>...</td>\n",
       "      <td>...</td>\n",
       "      <td>...</td>\n",
       "      <td>...</td>\n",
       "      <td>...</td>\n",
       "      <td>...</td>\n",
       "      <td>...</td>\n",
       "      <td>...</td>\n",
       "      <td>...</td>\n",
       "      <td>...</td>\n",
       "      <td>...</td>\n",
       "      <td>...</td>\n",
       "      <td>...</td>\n",
       "      <td>...</td>\n",
       "      <td>...</td>\n",
       "      <td>...</td>\n",
       "      <td>...</td>\n",
       "      <td>...</td>\n",
       "      <td>...</td>\n",
       "    </tr>\n",
       "    <tr>\n",
       "      <th>7019</th>\n",
       "      <td>User761</td>\n",
       "      <td>2016-06-17 21:51:57.853076</td>\n",
       "      <td>2016-06-17 23:51:55.295370</td>\n",
       "      <td>5.386442e+10</td>\n",
       "      <td>2.111484e+11</td>\n",
       "      <td>0.0</td>\n",
       "      <td>0.0</td>\n",
       "      <td>32.0</td>\n",
       "      <td>454346.0</td>\n",
       "      <td>11428975.0</td>\n",
       "      <td>...</td>\n",
       "      <td>1.350403e+09</td>\n",
       "      <td>exclusive_process</td>\n",
       "      <td>1.0</td>\n",
       "      <td>91724.0</td>\n",
       "      <td>91724.0</td>\n",
       "      <td>1.131545e+09</td>\n",
       "      <td>2.149935e+10</td>\n",
       "      <td>7197.442294</td>\n",
       "      <td>Computer Science</td>\n",
       "      <td>Computer Science</td>\n",
       "    </tr>\n",
       "    <tr>\n",
       "      <th>7020</th>\n",
       "      <td>User761</td>\n",
       "      <td>2016-06-17 21:51:57.852363</td>\n",
       "      <td>2016-06-17 23:51:55.292697</td>\n",
       "      <td>5.522622e+10</td>\n",
       "      <td>2.142101e+11</td>\n",
       "      <td>0.0</td>\n",
       "      <td>0.0</td>\n",
       "      <td>32.0</td>\n",
       "      <td>454346.0</td>\n",
       "      <td>11428972.0</td>\n",
       "      <td>...</td>\n",
       "      <td>9.063731e+08</td>\n",
       "      <td>exclusive_process</td>\n",
       "      <td>1.0</td>\n",
       "      <td>74508.0</td>\n",
       "      <td>74508.0</td>\n",
       "      <td>1.140064e+09</td>\n",
       "      <td>1.596090e+10</td>\n",
       "      <td>7197.440334</td>\n",
       "      <td>Computer Science</td>\n",
       "      <td>Computer Science</td>\n",
       "    </tr>\n",
       "    <tr>\n",
       "      <th>7021</th>\n",
       "      <td>User761</td>\n",
       "      <td>2016-06-17 21:51:57.865834</td>\n",
       "      <td>2016-06-17 23:51:55.296449</td>\n",
       "      <td>5.102610e+10</td>\n",
       "      <td>2.167314e+11</td>\n",
       "      <td>0.0</td>\n",
       "      <td>0.0</td>\n",
       "      <td>32.0</td>\n",
       "      <td>454346.0</td>\n",
       "      <td>11428974.0</td>\n",
       "      <td>...</td>\n",
       "      <td>9.196036e+08</td>\n",
       "      <td>exclusive_process</td>\n",
       "      <td>1.0</td>\n",
       "      <td>67984.0</td>\n",
       "      <td>67984.0</td>\n",
       "      <td>1.007944e+09</td>\n",
       "      <td>1.411121e+10</td>\n",
       "      <td>7197.430615</td>\n",
       "      <td>Computer Science</td>\n",
       "      <td>Computer Science</td>\n",
       "    </tr>\n",
       "    <tr>\n",
       "      <th>7022</th>\n",
       "      <td>User761</td>\n",
       "      <td>2016-03-29 00:49:29.902491</td>\n",
       "      <td>2016-03-29 02:49:34.810310</td>\n",
       "      <td>1.562879e+10</td>\n",
       "      <td>2.439110e+10</td>\n",
       "      <td>0.0</td>\n",
       "      <td>0.0</td>\n",
       "      <td>16.0</td>\n",
       "      <td>360889.0</td>\n",
       "      <td>10556388.0</td>\n",
       "      <td>...</td>\n",
       "      <td>1.117774e+07</td>\n",
       "      <td>exclusive_process</td>\n",
       "      <td>1.0</td>\n",
       "      <td>6549.0</td>\n",
       "      <td>6549.0</td>\n",
       "      <td>2.358641e+09</td>\n",
       "      <td>2.358641e+09</td>\n",
       "      <td>7204.907819</td>\n",
       "      <td>Computer Science</td>\n",
       "      <td>Computer Science</td>\n",
       "    </tr>\n",
       "    <tr>\n",
       "      <th>7023</th>\n",
       "      <td>User761</td>\n",
       "      <td>2016-03-29 00:49:29.926590</td>\n",
       "      <td>2016-03-29 02:49:34.814596</td>\n",
       "      <td>3.322647e+10</td>\n",
       "      <td>1.131039e+11</td>\n",
       "      <td>0.0</td>\n",
       "      <td>0.0</td>\n",
       "      <td>16.0</td>\n",
       "      <td>360889.0</td>\n",
       "      <td>10556387.0</td>\n",
       "      <td>...</td>\n",
       "      <td>6.574064e+07</td>\n",
       "      <td>exclusive_process</td>\n",
       "      <td>1.0</td>\n",
       "      <td>91320.0</td>\n",
       "      <td>91320.0</td>\n",
       "      <td>1.230373e+09</td>\n",
       "      <td>1.968597e+10</td>\n",
       "      <td>7204.888006</td>\n",
       "      <td>Computer Science</td>\n",
       "      <td>Computer Science</td>\n",
       "    </tr>\n",
       "  </tbody>\n",
       "</table>\n",
       "<p>7024 rows × 24 columns</p>\n",
       "</div>"
      ],
      "text/plain": [
       "      user_id                 start_time                   end_time  \\\n",
       "0     User761 2016-06-18 01:07:13.309457 2016-06-18 03:07:10.803898   \n",
       "1     User761 2016-06-18 01:07:13.519631 2016-06-18 03:07:10.806795   \n",
       "2     User761 2016-06-18 01:07:13.309570 2016-06-18 03:07:10.801446   \n",
       "3     User761 2016-06-18 01:07:13.300061 2016-06-18 03:07:10.803999   \n",
       "4     User761 2016-03-29 04:52:36.064585 2016-03-29 06:52:33.524497   \n",
       "...       ...                        ...                        ...   \n",
       "7019  User761 2016-06-17 21:51:57.853076 2016-06-17 23:51:55.295370   \n",
       "7020  User761 2016-06-17 21:51:57.852363 2016-06-17 23:51:55.292697   \n",
       "7021  User761 2016-06-17 21:51:57.865834 2016-06-17 23:51:55.296449   \n",
       "7022  User761 2016-03-29 00:49:29.902491 2016-03-29 02:49:34.810310   \n",
       "7023  User761 2016-03-29 00:49:29.926590 2016-03-29 02:49:34.814596   \n",
       "\n",
       "             stime         utime  alps_exit  alps_nppn  alps_width  \\\n",
       "0     6.091610e+10  2.019172e+11        0.0        0.0        32.0   \n",
       "1     5.758180e+10  2.119892e+11        0.0        0.0        32.0   \n",
       "2     5.570428e+10  2.192665e+11        0.0        0.0        32.0   \n",
       "3     5.945875e+10  2.164348e+11        0.0        0.0        32.0   \n",
       "4     3.220305e+10  1.050159e+11        0.0        0.0        16.0   \n",
       "...            ...           ...        ...        ...         ...   \n",
       "7019  5.386442e+10  2.111484e+11        0.0        0.0        32.0   \n",
       "7020  5.522622e+10  2.142101e+11        0.0        0.0        32.0   \n",
       "7021  5.102610e+10  2.167314e+11        0.0        0.0        32.0   \n",
       "7022  1.562879e+10  2.439110e+10        0.0        0.0        16.0   \n",
       "7023  3.322647e+10  1.131039e+11        0.0        0.0        16.0   \n",
       "\n",
       "      alps_resid    aprun_id  ...         wchar           gpu_mode  gpu_pids  \\\n",
       "0       454477.0  11429660.0  ...  2.936535e+09  exclusive_process       1.0   \n",
       "1       454477.0  11429661.0  ...  1.471863e+09  exclusive_process       1.0   \n",
       "2       454477.0  11429659.0  ...  1.060735e+09  exclusive_process       1.0   \n",
       "3       454477.0  11429658.0  ...  9.907408e+08  exclusive_process       1.0   \n",
       "4       361035.0  10557045.0  ...  2.931049e+07  exclusive_process       1.0   \n",
       "...          ...         ...  ...           ...                ...       ...   \n",
       "7019    454346.0  11428975.0  ...  1.350403e+09  exclusive_process       1.0   \n",
       "7020    454346.0  11428972.0  ...  9.063731e+08  exclusive_process       1.0   \n",
       "7021    454346.0  11428974.0  ...  9.196036e+08  exclusive_process       1.0   \n",
       "7022    360889.0  10556388.0  ...  1.117774e+07  exclusive_process       1.0   \n",
       "7023    360889.0  10556387.0  ...  6.574064e+07  exclusive_process       1.0   \n",
       "\n",
       "      gpu_secs  gpu_maxsecs    gpu_maxmem    gpu_summem     duration  \\\n",
       "0      57993.0      57993.0  1.101398e+09  1.431817e+10  7197.494441   \n",
       "1      15543.0      15543.0  1.131545e+09  3.394634e+09  7197.287164   \n",
       "2      10650.0      10650.0  1.007944e+09  2.015887e+09  7197.491876   \n",
       "3      51804.0      51804.0  1.140064e+09  1.026058e+10  7197.503938   \n",
       "4      89714.0      89714.0  2.358641e+09  3.302097e+10  7197.459912   \n",
       "...        ...          ...           ...           ...          ...   \n",
       "7019   91724.0      91724.0  1.131545e+09  2.149935e+10  7197.442294   \n",
       "7020   74508.0      74508.0  1.140064e+09  1.596090e+10  7197.440334   \n",
       "7021   67984.0      67984.0  1.007944e+09  1.411121e+10  7197.430615   \n",
       "7022    6549.0       6549.0  2.358641e+09  2.358641e+09  7204.907819   \n",
       "7023   91320.0      91320.0  1.230373e+09  1.968597e+10  7204.888006   \n",
       "\n",
       "             proj_area      proj_science  \n",
       "0     Computer Science  Computer Science  \n",
       "1     Computer Science  Computer Science  \n",
       "2     Computer Science  Computer Science  \n",
       "3     Computer Science  Computer Science  \n",
       "4     Computer Science  Computer Science  \n",
       "...                ...               ...  \n",
       "7019  Computer Science  Computer Science  \n",
       "7020  Computer Science  Computer Science  \n",
       "7021  Computer Science  Computer Science  \n",
       "7022  Computer Science  Computer Science  \n",
       "7023  Computer Science  Computer Science  \n",
       "\n",
       "[7024 rows x 24 columns]"
      ]
     },
     "execution_count": 13,
     "metadata": {},
     "output_type": "execute_result"
    }
   ],
   "source": [
    "df"
   ]
  },
  {
   "cell_type": "code",
   "execution_count": 14,
   "id": "dbafdf7f",
   "metadata": {},
   "outputs": [
    {
     "data": {
      "text/plain": [
       "Index(['user_id', 'start_time', 'end_time', 'stime', 'utime', 'alps_exit',\n",
       "       'alps_nppn', 'alps_width', 'alps_resid', 'aprun_id', 'command',\n",
       "       'node_count', 'max_rss', 'rchar', 'wchar', 'gpu_mode', 'gpu_pids',\n",
       "       'gpu_secs', 'gpu_maxsecs', 'gpu_maxmem', 'gpu_summem', 'duration',\n",
       "       'proj_area', 'proj_science'],\n",
       "      dtype='object')"
      ]
     },
     "execution_count": 14,
     "metadata": {},
     "output_type": "execute_result"
    }
   ],
   "source": [
    "df.columns"
   ]
  },
  {
   "cell_type": "code",
   "execution_count": 15,
   "id": "cfbf2148",
   "metadata": {},
   "outputs": [
    {
     "data": {
      "text/plain": [
       "0       /lustre/atlas/User761/Area15-36/caffe\n",
       "1       /lustre/atlas/User761/Area15-36/caffe\n",
       "2       /lustre/atlas/User761/Area15-36/caffe\n",
       "3       /lustre/atlas/User761/Area15-36/caffe\n",
       "4       /lustre/atlas/User761/Area15-36/caffe\n",
       "                        ...                  \n",
       "7019    /lustre/atlas/User761/Area15-36/caffe\n",
       "7020    /lustre/atlas/User761/Area15-36/caffe\n",
       "7021    /lustre/atlas/User761/Area15-36/caffe\n",
       "7022    /lustre/atlas/User761/Area15-36/caffe\n",
       "7023    /lustre/atlas/User761/Area15-36/caffe\n",
       "Name: command, Length: 7024, dtype: object"
      ]
     },
     "execution_count": 15,
     "metadata": {},
     "output_type": "execute_result"
    }
   ],
   "source": [
    "df['command']"
   ]
  },
  {
   "cell_type": "code",
   "execution_count": 16,
   "id": "fd01e8eb",
   "metadata": {},
   "outputs": [
    {
     "data": {
      "text/plain": [
       "Text(0, 0.5, 'Project Science')"
      ]
     },
     "execution_count": 16,
     "metadata": {},
     "output_type": "execute_result"
    },
    {
     "data": {
      "image/png": "[encoded data removed]",
      "text/plain": [
       "<Figure size 432x288 with 1 Axes>"
      ]
     },
     "metadata": {},
     "output_type": "display_data"
    }
   ],
   "source": [
    "df['proj_science'].value_counts().plot.pie(autopct=\"%.2f\")\n",
    "\n",
    "plt.ylabel(\"Project Science\")"
   ]
  },
  {
   "cell_type": "code",
   "execution_count": 23,
   "id": "c984c474",
   "metadata": {},
   "outputs": [
    {
     "data": {
      "image/png": "[encoded data removed]",
      "text/plain": [
       "<Figure size 432x288 with 1 Axes>"
      ]
     },
     "metadata": {},
     "output_type": "display_data"
    }
   ],
   "source": [
    "df['proj_area'].value_counts().plot.pie(autopct=\"%.2f\", explode=(0.1, )*3)\n",
    "\n",
    "plt.ylabel(\"\")\n",
    "\n",
    "plt.savefig(\"plots/titan_proj_area.png\")"
   ]
  },
  {
   "cell_type": "code",
   "execution_count": 24,
   "id": "a449b0e5",
   "metadata": {},
   "outputs": [
    {
     "data": {
      "text/plain": [
       "Text(0, 0.5, 'Project Area')"
      ]
     },
     "execution_count": 24,
     "metadata": {},
     "output_type": "execute_result"
    },
    {
     "data": {
      "image/png": "[encoded data removed]",
      "text/plain": [
       "<Figure size 432x288 with 1 Axes>"
      ]
     },
     "metadata": {},
     "output_type": "display_data"
    }
   ],
   "source": [
    "df['command'].value_counts().plot.pie(autopct=\"%.2f\")\n",
    "\n",
    "plt.ylabel(\"Project Area\")"
   ]
  },
  {
   "cell_type": "code",
   "execution_count": 25,
   "id": "5d21bc65",
   "metadata": {},
   "outputs": [],
   "source": [
    "df['command'] = df['command'].apply(lambda x: x.split(\"/\")[-1])"
   ]
  },
  {
   "cell_type": "markdown",
   "id": "f642c5e6",
   "metadata": {},
   "source": [
    "Keyword wise analysis\n",
    "===\n",
    "\n",
    "Plots to make\n",
    "---\n",
    "\n",
    "* Count keyword wise barplot\n",
    "* Subparameters (mean, median, stddev, on a boxplot)\n",
    "  * I/O: rchar and wchar\n",
    "  * Number of nodes utilised\n",
    "  * Duration\n",
    "  * gpu_secs, gpu_maxmem, gpu_summem\n",
    "  * CPU: node_count, max_rss"
   ]
  },
  {
   "cell_type": "code",
   "execution_count": 26,
   "id": "de8bcaf1",
   "metadata": {},
   "outputs": [
    {
     "data": {
      "text/plain": [
       "Index(['user_id', 'start_time', 'end_time', 'stime', 'utime', 'alps_exit',\n",
       "       'alps_nppn', 'alps_width', 'alps_resid', 'aprun_id', 'command',\n",
       "       'node_count', 'max_rss', 'rchar', 'wchar', 'gpu_mode', 'gpu_pids',\n",
       "       'gpu_secs', 'gpu_maxsecs', 'gpu_maxmem', 'gpu_summem', 'duration',\n",
       "       'proj_area', 'proj_science'],\n",
       "      dtype='object')"
      ]
     },
     "execution_count": 26,
     "metadata": {},
     "output_type": "execute_result"
    }
   ],
   "source": [
    "df.columns"
   ]
  },
  {
   "cell_type": "code",
   "execution_count": 27,
   "id": "8edc9cec",
   "metadata": {},
   "outputs": [],
   "source": [
    "keywords = [\"caffe\", \"lenet\", \"MENNDL\", \"imagenet\", \"cifar\", \"alexnet\"]"
   ]
  },
  {
   "cell_type": "code",
   "execution_count": 28,
   "id": "b2153199",
   "metadata": {},
   "outputs": [],
   "source": [
    "df['keyword'] = \"not caffe\"\n",
    "\n",
    "\n",
    "for keyword in keywords:\n",
    "    condition = df['command'].str.contains(keyword, case=False)\n",
    "    df.loc[condition, 'keyword'] = keyword"
   ]
  },
  {
   "cell_type": "code",
   "execution_count": 48,
   "id": "a453fe4c",
   "metadata": {},
   "outputs": [
    {
     "data": {
      "text/plain": [
       "caffe       87.015945\n",
       "MENNDL       5.210706\n",
       "lenet        4.812073\n",
       "imagenet     2.818907\n",
       "cifar        0.099658\n",
       "alexnet      0.042711\n",
       "Name: keyword, dtype: float64"
      ]
     },
     "execution_count": 48,
     "metadata": {},
     "output_type": "execute_result"
    }
   ],
   "source": [
    "cnts = df['keyword'].value_counts()\n",
    "cnts = cnts/cnts.sum()*100\n",
    "\n",
    "cnts"
   ]
  },
  {
   "cell_type": "code",
   "execution_count": 59,
   "id": "55bae2a9",
   "metadata": {},
   "outputs": [
    {
     "data": {
      "image/png": "[encoded data removed]",
      "text/plain": [
       "<Figure size 432x288 with 1 Axes>"
      ]
     },
     "metadata": {},
     "output_type": "display_data"
    }
   ],
   "source": [
    "labels = [f\"{label} ({cnt:0.2f})\" for label, cnt in zip(cnts.index, cnts.values)]\n",
    "sizes = cnts.values\n",
    "\n",
    "patches, text = plt.pie(sizes, explode=(0.2, )*6)\n",
    "plt.legend(patches, labels, loc=\"lower left\")\n",
    "\n",
    "plt.tight_layout()\n",
    "plt.axis('equal')\n",
    "\n",
    "plt.savefig(\"plots/titan_keyword_counts.png\")"
   ]
  },
  {
   "cell_type": "code",
   "execution_count": 38,
   "id": "d5c673ea",
   "metadata": {},
   "outputs": [
    {
     "data": {
      "image/png": "[encoded data removed]",
      "text/plain": [
       "<Figure size 360x360 with 1 Axes>"
      ]
     },
     "metadata": {},
     "output_type": "display_data"
    }
   ],
   "source": [
    "# Keyword-wise barplot of counts\n",
    "\n",
    "df['keyword'].value_counts().plot.pie(autopct=\"%.2f\", figsize=(5, 5), explode=(0.3, )*6)\n",
    "\n",
    "plt.xlabel(\"\")\n",
    "plt.ylabel(\"\")\n",
    "\n",
    "plt.savefig(\"plots/titan_keyword_counts.png\")"
   ]
  },
  {
   "cell_type": "code",
   "execution_count": 30,
   "id": "f101af14",
   "metadata": {},
   "outputs": [
    {
     "data": {
      "text/plain": [
       "keyword\n",
       "MENNDL      1.290816e+12\n",
       "alexnet     1.282890e+05\n",
       "caffe       7.877869e+10\n",
       "cifar       1.329767e+05\n",
       "imagenet    6.861258e+09\n",
       "lenet       7.302916e+07\n",
       "Name: rchar, dtype: float64"
      ]
     },
     "execution_count": 30,
     "metadata": {},
     "output_type": "execute_result"
    }
   ],
   "source": [
    "df.groupby(\"keyword\")['rchar'].agg(np.mean)"
   ]
  },
  {
   "cell_type": "code",
   "execution_count": 31,
   "id": "1aeb67f0",
   "metadata": {},
   "outputs": [
    {
     "data": {
      "text/plain": [
       "keyword\n",
       "MENNDL      1.479119e+12\n",
       "alexnet     4.666677e+08\n",
       "caffe       1.217518e+09\n",
       "cifar       1.412069e+07\n",
       "imagenet    6.683040e+10\n",
       "lenet       1.028767e+08\n",
       "Name: wchar, dtype: float64"
      ]
     },
     "execution_count": 31,
     "metadata": {},
     "output_type": "execute_result"
    }
   ],
   "source": [
    "df.groupby(\"keyword\")['wchar'].agg(np.mean)"
   ]
  },
  {
   "cell_type": "code",
   "execution_count": 87,
   "id": "5eeddafc",
   "metadata": {},
   "outputs": [],
   "source": [
    "# TODO: Retrospective analysis\n",
    "# we find the general parameters limits for rchar, wchar, GPU util from the keyword jobs\n",
    "# then apply this filter to Titan as a whole, and check if we obtain more prospective DL jobs, with similar behaviour"
   ]
  },
  {
   "cell_type": "code",
   "execution_count": 79,
   "id": "95510790",
   "metadata": {},
   "outputs": [],
   "source": [
    "# TODO: Remove the outlier from MENNDL and check the boxplots, also check the outlier (might be a special job?)"
   ]
  },
  {
   "cell_type": "code",
   "execution_count": 35,
   "id": "d2e871bd",
   "metadata": {},
   "outputs": [],
   "source": [
    "mjobs = df[(df['keyword'] == \"MENNDL\")]"
   ]
  },
  {
   "cell_type": "code",
   "execution_count": 39,
   "id": "8069ded4",
   "metadata": {},
   "outputs": [
    {
     "data": {
      "text/html": [
       "<div>\n",
       "<style scoped>\n",
       "    .dataframe tbody tr th:only-of-type {\n",
       "        vertical-align: middle;\n",
       "    }\n",
       "\n",
       "    .dataframe tbody tr th {\n",
       "        vertical-align: top;\n",
       "    }\n",
       "\n",
       "    .dataframe thead th {\n",
       "        text-align: right;\n",
       "    }\n",
       "</style>\n",
       "<table border=\"1\" class=\"dataframe\">\n",
       "  <thead>\n",
       "    <tr style=\"text-align: right;\">\n",
       "      <th></th>\n",
       "      <th>stime</th>\n",
       "      <th>utime</th>\n",
       "      <th>alps_exit</th>\n",
       "      <th>alps_nppn</th>\n",
       "      <th>alps_width</th>\n",
       "      <th>alps_resid</th>\n",
       "      <th>aprun_id</th>\n",
       "      <th>node_count</th>\n",
       "      <th>max_rss</th>\n",
       "      <th>rchar</th>\n",
       "      <th>wchar</th>\n",
       "      <th>gpu_pids</th>\n",
       "      <th>gpu_secs</th>\n",
       "      <th>gpu_maxsecs</th>\n",
       "      <th>gpu_maxmem</th>\n",
       "      <th>gpu_summem</th>\n",
       "      <th>duration</th>\n",
       "    </tr>\n",
       "  </thead>\n",
       "  <tbody>\n",
       "    <tr>\n",
       "      <th>count</th>\n",
       "      <td>3.660000e+02</td>\n",
       "      <td>3.660000e+02</td>\n",
       "      <td>366.0</td>\n",
       "      <td>366.0</td>\n",
       "      <td>366.000000</td>\n",
       "      <td>3.660000e+02</td>\n",
       "      <td>3.660000e+02</td>\n",
       "      <td>366.000000</td>\n",
       "      <td>3.660000e+02</td>\n",
       "      <td>3.660000e+02</td>\n",
       "      <td>3.660000e+02</td>\n",
       "      <td>366.000000</td>\n",
       "      <td>3.660000e+02</td>\n",
       "      <td>3.660000e+02</td>\n",
       "      <td>3.660000e+02</td>\n",
       "      <td>3.660000e+02</td>\n",
       "      <td>366.000000</td>\n",
       "    </tr>\n",
       "    <tr>\n",
       "      <th>mean</th>\n",
       "      <td>3.350358e+12</td>\n",
       "      <td>3.719324e+13</td>\n",
       "      <td>0.0</td>\n",
       "      <td>1.0</td>\n",
       "      <td>1320.806011</td>\n",
       "      <td>8.488167e+05</td>\n",
       "      <td>1.371733e+07</td>\n",
       "      <td>1320.806011</td>\n",
       "      <td>3.223715e+06</td>\n",
       "      <td>1.290816e+12</td>\n",
       "      <td>1.479119e+12</td>\n",
       "      <td>17.702186</td>\n",
       "      <td>2.144925e+07</td>\n",
       "      <td>9.913236e+06</td>\n",
       "      <td>2.148890e+09</td>\n",
       "      <td>2.522370e+13</td>\n",
       "      <td>8766.260257</td>\n",
       "    </tr>\n",
       "    <tr>\n",
       "      <th>std</th>\n",
       "      <td>1.390756e+13</td>\n",
       "      <td>1.294116e+14</td>\n",
       "      <td>0.0</td>\n",
       "      <td>0.0</td>\n",
       "      <td>3486.464381</td>\n",
       "      <td>4.580349e+05</td>\n",
       "      <td>2.610539e+06</td>\n",
       "      <td>3486.464381</td>\n",
       "      <td>5.352828e+06</td>\n",
       "      <td>2.407933e+13</td>\n",
       "      <td>2.410559e+13</td>\n",
       "      <td>36.156833</td>\n",
       "      <td>9.737609e+07</td>\n",
       "      <td>3.870460e+07</td>\n",
       "      <td>2.421764e+09</td>\n",
       "      <td>1.249413e+14</td>\n",
       "      <td>15896.641185</td>\n",
       "    </tr>\n",
       "    <tr>\n",
       "      <th>min</th>\n",
       "      <td>1.116400e+07</td>\n",
       "      <td>3.411600e+07</td>\n",
       "      <td>0.0</td>\n",
       "      <td>1.0</td>\n",
       "      <td>3.000000</td>\n",
       "      <td>1.272690e+05</td>\n",
       "      <td>8.865439e+06</td>\n",
       "      <td>3.000000</td>\n",
       "      <td>3.066480e+05</td>\n",
       "      <td>3.231147e+06</td>\n",
       "      <td>1.184410e+05</td>\n",
       "      <td>1.000000</td>\n",
       "      <td>5.000000e+00</td>\n",
       "      <td>0.000000e+00</td>\n",
       "      <td>0.000000e+00</td>\n",
       "      <td>0.000000e+00</td>\n",
       "      <td>13.495003</td>\n",
       "    </tr>\n",
       "    <tr>\n",
       "      <th>25%</th>\n",
       "      <td>3.551280e+08</td>\n",
       "      <td>3.301470e+09</td>\n",
       "      <td>0.0</td>\n",
       "      <td>1.0</td>\n",
       "      <td>5.000000</td>\n",
       "      <td>4.415540e+05</td>\n",
       "      <td>1.135482e+07</td>\n",
       "      <td>5.000000</td>\n",
       "      <td>5.186470e+05</td>\n",
       "      <td>2.743815e+07</td>\n",
       "      <td>1.824306e+07</td>\n",
       "      <td>1.000000</td>\n",
       "      <td>1.012750e+03</td>\n",
       "      <td>7.130000e+02</td>\n",
       "      <td>2.306867e+08</td>\n",
       "      <td>1.956250e+09</td>\n",
       "      <td>590.914927</td>\n",
       "    </tr>\n",
       "    <tr>\n",
       "      <th>50%</th>\n",
       "      <td>2.547222e+09</td>\n",
       "      <td>2.938098e+10</td>\n",
       "      <td>0.0</td>\n",
       "      <td>1.0</td>\n",
       "      <td>11.000000</td>\n",
       "      <td>7.065215e+05</td>\n",
       "      <td>1.304439e+07</td>\n",
       "      <td>11.000000</td>\n",
       "      <td>6.774620e+05</td>\n",
       "      <td>1.750322e+08</td>\n",
       "      <td>2.374284e+08</td>\n",
       "      <td>2.000000</td>\n",
       "      <td>7.652500e+03</td>\n",
       "      <td>5.720000e+03</td>\n",
       "      <td>6.336020e+08</td>\n",
       "      <td>3.283340e+10</td>\n",
       "      <td>2491.844675</td>\n",
       "    </tr>\n",
       "    <tr>\n",
       "      <th>75%</th>\n",
       "      <td>2.097135e+11</td>\n",
       "      <td>1.520299e+12</td>\n",
       "      <td>0.0</td>\n",
       "      <td>1.0</td>\n",
       "      <td>251.000000</td>\n",
       "      <td>1.340859e+06</td>\n",
       "      <td>1.657043e+07</td>\n",
       "      <td>251.000000</td>\n",
       "      <td>2.754088e+06</td>\n",
       "      <td>3.507285e+09</td>\n",
       "      <td>1.014681e+10</td>\n",
       "      <td>12.000000</td>\n",
       "      <td>7.845395e+05</td>\n",
       "      <td>3.871498e+05</td>\n",
       "      <td>5.263131e+09</td>\n",
       "      <td>2.748763e+11</td>\n",
       "      <td>7216.999201</td>\n",
       "    </tr>\n",
       "    <tr>\n",
       "      <th>max</th>\n",
       "      <td>1.574860e+14</td>\n",
       "      <td>1.067473e+15</td>\n",
       "      <td>0.0</td>\n",
       "      <td>1.0</td>\n",
       "      <td>18000.000000</td>\n",
       "      <td>1.694361e+06</td>\n",
       "      <td>1.849569e+07</td>\n",
       "      <td>18000.000000</td>\n",
       "      <td>3.103566e+07</td>\n",
       "      <td>4.606884e+14</td>\n",
       "      <td>4.609600e+14</td>\n",
       "      <td>128.000000</td>\n",
       "      <td>1.162578e+09</td>\n",
       "      <td>3.341555e+08</td>\n",
       "      <td>6.004933e+09</td>\n",
       "      <td>1.987202e+15</td>\n",
       "      <td>86400.255449</td>\n",
       "    </tr>\n",
       "  </tbody>\n",
       "</table>\n",
       "</div>"
      ],
      "text/plain": [
       "              stime         utime  alps_exit  alps_nppn    alps_width  \\\n",
       "count  3.660000e+02  3.660000e+02      366.0      366.0    366.000000   \n",
       "mean   3.350358e+12  3.719324e+13        0.0        1.0   1320.806011   \n",
       "std    1.390756e+13  1.294116e+14        0.0        0.0   3486.464381   \n",
       "min    1.116400e+07  3.411600e+07        0.0        1.0      3.000000   \n",
       "25%    3.551280e+08  3.301470e+09        0.0        1.0      5.000000   \n",
       "50%    2.547222e+09  2.938098e+10        0.0        1.0     11.000000   \n",
       "75%    2.097135e+11  1.520299e+12        0.0        1.0    251.000000   \n",
       "max    1.574860e+14  1.067473e+15        0.0        1.0  18000.000000   \n",
       "\n",
       "         alps_resid      aprun_id    node_count       max_rss         rchar  \\\n",
       "count  3.660000e+02  3.660000e+02    366.000000  3.660000e+02  3.660000e+02   \n",
       "mean   8.488167e+05  1.371733e+07   1320.806011  3.223715e+06  1.290816e+12   \n",
       "std    4.580349e+05  2.610539e+06   3486.464381  5.352828e+06  2.407933e+13   \n",
       "min    1.272690e+05  8.865439e+06      3.000000  3.066480e+05  3.231147e+06   \n",
       "25%    4.415540e+05  1.135482e+07      5.000000  5.186470e+05  2.743815e+07   \n",
       "50%    7.065215e+05  1.304439e+07     11.000000  6.774620e+05  1.750322e+08   \n",
       "75%    1.340859e+06  1.657043e+07    251.000000  2.754088e+06  3.507285e+09   \n",
       "max    1.694361e+06  1.849569e+07  18000.000000  3.103566e+07  4.606884e+14   \n",
       "\n",
       "              wchar    gpu_pids      gpu_secs   gpu_maxsecs    gpu_maxmem  \\\n",
       "count  3.660000e+02  366.000000  3.660000e+02  3.660000e+02  3.660000e+02   \n",
       "mean   1.479119e+12   17.702186  2.144925e+07  9.913236e+06  2.148890e+09   \n",
       "std    2.410559e+13   36.156833  9.737609e+07  3.870460e+07  2.421764e+09   \n",
       "min    1.184410e+05    1.000000  5.000000e+00  0.000000e+00  0.000000e+00   \n",
       "25%    1.824306e+07    1.000000  1.012750e+03  7.130000e+02  2.306867e+08   \n",
       "50%    2.374284e+08    2.000000  7.652500e+03  5.720000e+03  6.336020e+08   \n",
       "75%    1.014681e+10   12.000000  7.845395e+05  3.871498e+05  5.263131e+09   \n",
       "max    4.609600e+14  128.000000  1.162578e+09  3.341555e+08  6.004933e+09   \n",
       "\n",
       "         gpu_summem      duration  \n",
       "count  3.660000e+02    366.000000  \n",
       "mean   2.522370e+13   8766.260257  \n",
       "std    1.249413e+14  15896.641185  \n",
       "min    0.000000e+00     13.495003  \n",
       "25%    1.956250e+09    590.914927  \n",
       "50%    3.283340e+10   2491.844675  \n",
       "75%    2.748763e+11   7216.999201  \n",
       "max    1.987202e+15  86400.255449  "
      ]
     },
     "execution_count": 39,
     "metadata": {},
     "output_type": "execute_result"
    }
   ],
   "source": [
    "mjobs.describe()"
   ]
  },
  {
   "cell_type": "code",
   "execution_count": 38,
   "id": "f57cd318",
   "metadata": {},
   "outputs": [
    {
     "data": {
      "text/html": [
       "<div>\n",
       "<style scoped>\n",
       "    .dataframe tbody tr th:only-of-type {\n",
       "        vertical-align: middle;\n",
       "    }\n",
       "\n",
       "    .dataframe tbody tr th {\n",
       "        vertical-align: top;\n",
       "    }\n",
       "\n",
       "    .dataframe thead th {\n",
       "        text-align: right;\n",
       "    }\n",
       "</style>\n",
       "<table border=\"1\" class=\"dataframe\">\n",
       "  <thead>\n",
       "    <tr style=\"text-align: right;\">\n",
       "      <th></th>\n",
       "      <th>user_id</th>\n",
       "      <th>start_time</th>\n",
       "      <th>end_time</th>\n",
       "      <th>stime</th>\n",
       "      <th>utime</th>\n",
       "      <th>alps_exit</th>\n",
       "      <th>alps_nppn</th>\n",
       "      <th>alps_width</th>\n",
       "      <th>alps_resid</th>\n",
       "      <th>aprun_id</th>\n",
       "      <th>...</th>\n",
       "      <th>gpu_mode</th>\n",
       "      <th>gpu_pids</th>\n",
       "      <th>gpu_secs</th>\n",
       "      <th>gpu_maxsecs</th>\n",
       "      <th>gpu_maxmem</th>\n",
       "      <th>gpu_summem</th>\n",
       "      <th>duration</th>\n",
       "      <th>proj_area</th>\n",
       "      <th>proj_science</th>\n",
       "      <th>keyword</th>\n",
       "    </tr>\n",
       "  </thead>\n",
       "  <tbody>\n",
       "    <tr>\n",
       "      <th>2394</th>\n",
       "      <td>User1028</td>\n",
       "      <td>2018-02-27 04:34:20.714099</td>\n",
       "      <td>2018-02-27 16:34:28.862915</td>\n",
       "      <td>3.034649e+12</td>\n",
       "      <td>1.051524e+14</td>\n",
       "      <td>0.0</td>\n",
       "      <td>1.0</td>\n",
       "      <td>1000.0</td>\n",
       "      <td>1417528.0</td>\n",
       "      <td>16891369.0</td>\n",
       "      <td>...</td>\n",
       "      <td>exclusive_process</td>\n",
       "      <td>16.0</td>\n",
       "      <td>7792126.0</td>\n",
       "      <td>1944254.0</td>\n",
       "      <td>6.004670e+09</td>\n",
       "      <td>8.576887e+13</td>\n",
       "      <td>43208.148816</td>\n",
       "      <td>High Energy Physics</td>\n",
       "      <td>Physics</td>\n",
       "      <td>MENNDL</td>\n",
       "    </tr>\n",
       "  </tbody>\n",
       "</table>\n",
       "<p>1 rows × 25 columns</p>\n",
       "</div>"
      ],
      "text/plain": [
       "       user_id                 start_time                   end_time  \\\n",
       "2394  User1028 2018-02-27 04:34:20.714099 2018-02-27 16:34:28.862915   \n",
       "\n",
       "             stime         utime  alps_exit  alps_nppn  alps_width  \\\n",
       "2394  3.034649e+12  1.051524e+14        0.0        1.0      1000.0   \n",
       "\n",
       "      alps_resid    aprun_id  ...           gpu_mode  gpu_pids   gpu_secs  \\\n",
       "2394   1417528.0  16891369.0  ...  exclusive_process      16.0  7792126.0   \n",
       "\n",
       "      gpu_maxsecs    gpu_maxmem    gpu_summem      duration  \\\n",
       "2394    1944254.0  6.004670e+09  8.576887e+13  43208.148816   \n",
       "\n",
       "                proj_area  proj_science  keyword  \n",
       "2394  High Energy Physics       Physics   MENNDL  \n",
       "\n",
       "[1 rows x 25 columns]"
      ]
     },
     "execution_count": 38,
     "metadata": {},
     "output_type": "execute_result"
    }
   ],
   "source": [
    "# The outlier MENNDL job\n",
    "\n",
    "mjobs[mjobs['wchar'] > 3e14]"
   ]
  },
  {
   "cell_type": "code",
   "execution_count": 83,
   "id": "3ca612ce",
   "metadata": {},
   "outputs": [],
   "source": [
    "df.drop(df[(df['wchar'] > 3e14) & (df['keyword'] == \"MENNDL\")].index, inplace=True)"
   ]
  },
  {
   "cell_type": "code",
   "execution_count": 91,
   "id": "cced496d",
   "metadata": {},
   "outputs": [],
   "source": [
    "df['rw_ratio'] = df['rchar']/df['wchar']"
   ]
  },
  {
   "cell_type": "code",
   "execution_count": 90,
   "id": "31f688c8",
   "metadata": {},
   "outputs": [
    {
     "data": {
      "image/png": "[encoded data removed]",
      "text/plain": [
       "<Figure size 432x288 with 1 Axes>"
      ]
     },
     "metadata": {
      "needs_background": "light"
     },
     "output_type": "display_data"
    }
   ],
   "source": [
    "sns.boxplot(x=\"keyword\", y=\"wchar\", data=df, showfliers=False)\n",
    "\n",
    "plt.yscale('log')\n",
    "\n",
    "plt.savefig(\"plots/wchar_keyword_wise.png\")"
   ]
  },
  {
   "cell_type": "code",
   "execution_count": 89,
   "id": "543cffc1",
   "metadata": {},
   "outputs": [
    {
     "data": {
      "image/png": "[encoded data removed]",
      "text/plain": [
       "<Figure size 432x288 with 1 Axes>"
      ]
     },
     "metadata": {
      "needs_background": "light"
     },
     "output_type": "display_data"
    }
   ],
   "source": [
    "sns.boxplot(x=\"keyword\", y=\"rchar\", data=df, showfliers=False)\n",
    "\n",
    "plt.yscale('log')\n",
    "\n",
    "plt.savefig(\"plots/rchar_keyword_wise.png\")"
   ]
  },
  {
   "cell_type": "code",
   "execution_count": 92,
   "id": "a32d1519",
   "metadata": {},
   "outputs": [
    {
     "data": {
      "image/png": "[encoded data removed]",
      "text/plain": [
       "<Figure size 432x288 with 1 Axes>"
      ]
     },
     "metadata": {
      "needs_background": "light"
     },
     "output_type": "display_data"
    }
   ],
   "source": [
    "sns.boxplot(x=\"keyword\", y=\"rw_ratio\", data=df, showfliers=False)\n",
    "\n",
    "plt.yscale('log')\n",
    "\n",
    "plt.savefig(\"plots/rw_ratio_keyword_wise.png\")"
   ]
  },
  {
   "cell_type": "code",
   "execution_count": 97,
   "id": "50bb4b00",
   "metadata": {},
   "outputs": [
    {
     "data": {
      "image/png": "[encoded data removed]",
      "text/plain": [
       "<Figure size 432x288 with 1 Axes>"
      ]
     },
     "metadata": {
      "needs_background": "light"
     },
     "output_type": "display_data"
    }
   ],
   "source": [
    "sns.boxplot(x=\"keyword\", y=\"duration\", data=df, showfliers=False)\n",
    "\n",
    "plt.savefig(\"plots/titan_keyword_duration.png\")"
   ]
  },
  {
   "cell_type": "code",
   "execution_count": 80,
   "id": "5415aec1",
   "metadata": {},
   "outputs": [
    {
     "data": {
      "text/plain": [
       "<AxesSubplot:xlabel='keyword', ylabel='wchar'>"
      ]
     },
     "execution_count": 80,
     "metadata": {},
     "output_type": "execute_result"
    },
    {
     "data": {
      "image/png": "[encoded data removed]",
      "text/plain": [
       "<Figure size 432x288 with 1 Axes>"
      ]
     },
     "metadata": {
      "needs_background": "light"
     },
     "output_type": "display_data"
    }
   ],
   "source": [
    "sns.boxplot(x=\"keyword\", y=\"wchar\", data=df, showfliers=True)"
   ]
  },
  {
   "cell_type": "code",
   "execution_count": 50,
   "id": "1bbad259",
   "metadata": {},
   "outputs": [
    {
     "data": {
      "text/plain": [
       "<AxesSubplot:xlabel='keyword'>"
      ]
     },
     "execution_count": 50,
     "metadata": {},
     "output_type": "execute_result"
    },
    {
     "data": {
      "image/png": "[encoded data removed]",
      "text/plain": [
       "<Figure size 432x288 with 1 Axes>"
      ]
     },
     "metadata": {
      "needs_background": "light"
     },
     "output_type": "display_data"
    }
   ],
   "source": [
    "df.groupby(\"keyword\")['wchar'].agg(np.mean).plot.line()"
   ]
  },
  {
   "cell_type": "code",
   "execution_count": 51,
   "id": "79041783",
   "metadata": {},
   "outputs": [
    {
     "data": {
      "text/plain": [
       "<AxesSubplot:xlabel='keyword'>"
      ]
     },
     "execution_count": 51,
     "metadata": {},
     "output_type": "execute_result"
    },
    {
     "data": {
      "image/png": "[encoded data removed]",
      "text/plain": [
       "<Figure size 432x288 with 1 Axes>"
      ]
     },
     "metadata": {
      "needs_background": "light"
     },
     "output_type": "display_data"
    }
   ],
   "source": [
    "df.groupby(\"keyword\")['rchar'].agg(np.mean).plot.line()"
   ]
  },
  {
   "cell_type": "code",
   "execution_count": 126,
   "id": "0a89cd0f",
   "metadata": {},
   "outputs": [
    {
     "data": {
      "image/png": "[encoded data removed]",
      "text/plain": [
       "<Figure size 432x288 with 1 Axes>"
      ]
     },
     "metadata": {
      "needs_background": "light"
     },
     "output_type": "display_data"
    }
   ],
   "source": [
    "sns.boxplot(x=\"keyword\", y=\"gpu_util\", data=df, showfliers=False)\n",
    "\n",
    "plt.savefig(\"plots/titan_gpu_util_boxplot.png\")"
   ]
  },
  {
   "cell_type": "code",
   "execution_count": 127,
   "id": "8cf726e7",
   "metadata": {},
   "outputs": [
    {
     "data": {
      "image/png": "[encoded data removed]",
      "text/plain": [
       "<Figure size 432x288 with 1 Axes>"
      ]
     },
     "metadata": {
      "needs_background": "light"
     },
     "output_type": "display_data"
    }
   ],
   "source": [
    "sns.boxplot(x=\"keyword\", y=\"gpu_maxmem\", data=df, showfliers=True)\n",
    "plt.yscale('log')\n",
    "\n",
    "plt.savefig(\"plots/titan_gpu_mem_boxplot.png\")"
   ]
  },
  {
   "cell_type": "code",
   "execution_count": 128,
   "id": "7c969017",
   "metadata": {},
   "outputs": [
    {
     "data": {
      "image/png": "[encoded data removed]",
      "text/plain": [
       "<Figure size 432x288 with 1 Axes>"
      ]
     },
     "metadata": {
      "needs_background": "light"
     },
     "output_type": "display_data"
    }
   ],
   "source": [
    "sns.boxplot(x=\"keyword\", y=\"node_count\", data=df, showfliers=False)\n",
    "\n",
    "plt.yscale('log')\n",
    "\n",
    "plt.savefig(\"plots/titan_node_count.png\")"
   ]
  },
  {
   "cell_type": "code",
   "execution_count": 129,
   "id": "b827d08e",
   "metadata": {},
   "outputs": [
    {
     "data": {
      "image/png": "[encoded data removed]",
      "text/plain": [
       "<Figure size 432x288 with 1 Axes>"
      ]
     },
     "metadata": {
      "needs_background": "light"
     },
     "output_type": "display_data"
    }
   ],
   "source": [
    "sns.boxplot(x=\"keyword\", y=\"max_rss\", data=df, showfliers=True)\n",
    "\n",
    "plt.yscale('log')\n",
    "\n",
    "plt.savefig(\"plots/titan_max_mem_boxplot.png\")"
   ]
  },
  {
   "cell_type": "code",
   "execution_count": 120,
   "id": "e8c4a898",
   "metadata": {},
   "outputs": [
    {
     "data": {
      "text/plain": [
       "Index(['user_id', 'start_time', 'end_time', 'stime', 'utime', 'alps_exit',\n",
       "       'alps_nppn', 'alps_width', 'alps_resid', 'aprun_id', 'command',\n",
       "       'node_count', 'max_rss', 'rchar', 'wchar', 'gpu_mode', 'gpu_pids',\n",
       "       'gpu_secs', 'gpu_maxsecs', 'gpu_maxmem', 'gpu_summem', 'duration',\n",
       "       'proj_area', 'proj_science', 'keyword', 'gpu_util', 'year', 'rw_ratio',\n",
       "       'month'],\n",
       "      dtype='object')"
      ]
     },
     "execution_count": 120,
     "metadata": {},
     "output_type": "execute_result"
    }
   ],
   "source": [
    "df.columns"
   ]
  },
  {
   "cell_type": "code",
   "execution_count": 52,
   "id": "94842179",
   "metadata": {},
   "outputs": [
    {
     "data": {
      "text/plain": [
       "Text(0, 0.5, 'Average GPU Utilisation')"
      ]
     },
     "execution_count": 52,
     "metadata": {},
     "output_type": "execute_result"
    },
    {
     "data": {
      "image/png": "[encoded data removed]",
      "text/plain": [
       "<Figure size 432x288 with 1 Axes>"
      ]
     },
     "metadata": {
      "needs_background": "light"
     },
     "output_type": "display_data"
    }
   ],
   "source": [
    "df['gpu_util'] = 100*df['gpu_secs']/(df['duration']*df['node_count'])\n",
    "\n",
    "df.groupby(\"keyword\")['gpu_util'].agg(np.mean).plot.bar()\n",
    "\n",
    "plt.ylabel(\"Average GPU Utilisation\")"
   ]
  },
  {
   "cell_type": "code",
   "execution_count": 53,
   "id": "32b84fff",
   "metadata": {},
   "outputs": [],
   "source": [
    "# Can compare the GPU/mem util with Philly dataset"
   ]
  },
  {
   "cell_type": "code",
   "execution_count": 54,
   "id": "29436988",
   "metadata": {},
   "outputs": [
    {
     "data": {
      "text/plain": [
       "Text(0, 0.5, 'Mean Maximum Memory Utilised')"
      ]
     },
     "execution_count": 54,
     "metadata": {},
     "output_type": "execute_result"
    },
    {
     "data": {
      "image/png": "[encoded data removed]",
      "text/plain": [
       "<Figure size 432x288 with 1 Axes>"
      ]
     },
     "metadata": {
      "needs_background": "light"
     },
     "output_type": "display_data"
    }
   ],
   "source": [
    "df.groupby(\"keyword\")['gpu_maxmem'].agg(np.mean).plot.bar()\n",
    "\n",
    "plt.ylabel(\"Mean Maximum Memory Utilised\")"
   ]
  },
  {
   "cell_type": "markdown",
   "id": "f70850b7",
   "metadata": {},
   "source": [
    "**Observation**: AlexNet and Cifar10 jobs require more GPU utilisation on average"
   ]
  },
  {
   "cell_type": "code",
   "execution_count": 55,
   "id": "72c4c9b0",
   "metadata": {},
   "outputs": [],
   "source": [
    "# TODO: Remove outlier and re-plot the pairplot"
   ]
  },
  {
   "cell_type": "code",
   "execution_count": 57,
   "id": "21ac2b80",
   "metadata": {},
   "outputs": [],
   "source": [
    "df_back = df.copy()\n",
    "\n",
    "df = df[~(df['keyword'] == \"MENNDL\")]"
   ]
  },
  {
   "cell_type": "code",
   "execution_count": 61,
   "id": "a16dc40b",
   "metadata": {},
   "outputs": [],
   "source": [
    "df = df_back.copy()\n",
    "\n",
    "# Comment the above to view without MENNDL datapoints"
   ]
  },
  {
   "cell_type": "code",
   "execution_count": 60,
   "id": "67e299bc",
   "metadata": {},
   "outputs": [
    {
     "data": {
      "text/plain": [
       "<seaborn.axisgrid.PairGrid at 0x7fb1082b2640>"
      ]
     },
     "execution_count": 60,
     "metadata": {},
     "output_type": "execute_result"
    },
    {
     "data": {
      "image/png": "[encoded data removed]",
      "text/plain": [
       "<Figure size 731.5x648 with 12 Axes>"
      ]
     },
     "metadata": {
      "needs_background": "light"
     },
     "output_type": "display_data"
    }
   ],
   "source": [
    "sns.pairplot(df[[\"gpu_util\", \"rchar\", \"wchar\", \"keyword\"]], hue=\"keyword\", height=3)"
   ]
  },
  {
   "cell_type": "markdown",
   "id": "eaa7bb23",
   "metadata": {},
   "source": [
    "Temporal Analysis\n",
    "==="
   ]
  },
  {
   "cell_type": "markdown",
   "id": "80d339d2",
   "metadata": {},
   "source": [
    "* Number of jobs by year\n",
    "* IO usage by year of jobs\n",
    "  * How did I/O usage trend during the years?\n",
    "* Heatmap of months"
   ]
  },
  {
   "cell_type": "code",
   "execution_count": 98,
   "id": "a3857450",
   "metadata": {},
   "outputs": [],
   "source": [
    "df['year'] = df['start_time'].dt.year"
   ]
  },
  {
   "cell_type": "code",
   "execution_count": 99,
   "id": "53f11944",
   "metadata": {},
   "outputs": [
    {
     "data": {
      "text/plain": [
       "Text(0, 0.5, 'Number of DL jobs')"
      ]
     },
     "execution_count": 99,
     "metadata": {},
     "output_type": "execute_result"
    },
    {
     "data": {
      "image/png": "[encoded data removed]",
      "text/plain": [
       "<Figure size 432x288 with 1 Axes>"
      ]
     },
     "metadata": {
      "needs_background": "light"
     },
     "output_type": "display_data"
    }
   ],
   "source": [
    "df.groupby(\"year\")['start_time'].count().plot.line()\n",
    "\n",
    "plt.ylabel(\"Number of DL jobs\")"
   ]
  },
  {
   "cell_type": "code",
   "execution_count": 100,
   "id": "8a8a4c1a",
   "metadata": {},
   "outputs": [
    {
     "data": {
      "text/plain": [
       "Text(0.5, 1.0, 'Median Bytes Read')"
      ]
     },
     "execution_count": 100,
     "metadata": {},
     "output_type": "execute_result"
    },
    {
     "data": {
      "image/png": "[encoded data removed]",
      "text/plain": [
       "<Figure size 432x288 with 1 Axes>"
      ]
     },
     "metadata": {
      "needs_background": "light"
     },
     "output_type": "display_data"
    }
   ],
   "source": [
    "df.groupby(\"year\")['rchar'].agg(np.median).plot.line()\n",
    "\n",
    "plt.title(\"Median Bytes Read\")"
   ]
  },
  {
   "cell_type": "code",
   "execution_count": 101,
   "id": "b39ac9b7",
   "metadata": {},
   "outputs": [
    {
     "data": {
      "text/plain": [
       "Text(0.5, 1.0, 'Median Bytes Written')"
      ]
     },
     "execution_count": 101,
     "metadata": {},
     "output_type": "execute_result"
    },
    {
     "data": {
      "image/png": "[encoded data removed]",
      "text/plain": [
       "<Figure size 432x288 with 1 Axes>"
      ]
     },
     "metadata": {
      "needs_background": "light"
     },
     "output_type": "display_data"
    }
   ],
   "source": [
    "df.groupby(\"year\")['wchar'].agg(np.median).plot.line()\n",
    "\n",
    "plt.title(\"Median Bytes Written\")"
   ]
  },
  {
   "cell_type": "code",
   "execution_count": 103,
   "id": "ff216e5a",
   "metadata": {},
   "outputs": [],
   "source": [
    "df['month'] = df['start_time'].dt.month\n",
    "\n",
    "df2 = df.groupby(['month', 'year']).count()"
   ]
  },
  {
   "cell_type": "code",
   "execution_count": 105,
   "id": "cc372574",
   "metadata": {},
   "outputs": [
    {
     "data": {
      "text/plain": [
       "month  year\n",
       "1      2016    1105\n",
       "       2017       6\n",
       "       2018      11\n",
       "2      2016     294\n",
       "       2017       4\n",
       "       2018      16\n",
       "3      2015      11\n",
       "       2016     616\n",
       "       2017      20\n",
       "       2018      17\n",
       "4      2015      18\n",
       "       2016     138\n",
       "       2017       3\n",
       "5      2015       2\n",
       "       2016    1440\n",
       "       2017       6\n",
       "       2018      26\n",
       "6      2015       8\n",
       "       2016    1090\n",
       "       2017      29\n",
       "       2018      13\n",
       "7      2015       4\n",
       "       2016     144\n",
       "       2017      51\n",
       "       2018      13\n",
       "8      2015       5\n",
       "       2016     130\n",
       "       2017      44\n",
       "9      2015       6\n",
       "       2016     119\n",
       "       2017      15\n",
       "10     2015     866\n",
       "       2016      94\n",
       "       2017       3\n",
       "11     2015     167\n",
       "       2016      44\n",
       "12     2015     420\n",
       "       2016      10\n",
       "       2017      15\n",
       "Name: start_time, dtype: int64"
      ]
     },
     "execution_count": 105,
     "metadata": {},
     "output_type": "execute_result"
    }
   ],
   "source": [
    "df2 = df2.loc[:, 'start_time']\n",
    "df2"
   ]
  },
  {
   "cell_type": "code",
   "execution_count": 108,
   "id": "720d05ba",
   "metadata": {},
   "outputs": [],
   "source": [
    "hmap = df2.unstack(level=0).fillna(0)"
   ]
  },
  {
   "cell_type": "code",
   "execution_count": 113,
   "id": "1e8d57a0",
   "metadata": {},
   "outputs": [
    {
     "data": {
      "image/png": "[encoded data removed]",
      "text/plain": [
       "<Figure size 432x288 with 2 Axes>"
      ]
     },
     "metadata": {
      "needs_background": "light"
     },
     "output_type": "display_data"
    }
   ],
   "source": [
    "sns.heatmap(hmap, cmap='Blues', square=True)\n",
    "\n",
    "plt.savefig(\"plots/titan_month_heatmap.png\")"
   ]
  },
  {
   "cell_type": "code",
   "execution_count": 114,
   "id": "15e1b94e",
   "metadata": {},
   "outputs": [
    {
     "data": {
      "image/png": "[encoded data removed]",
      "text/plain": [
       "<Figure size 720x360 with 1 Axes>"
      ]
     },
     "metadata": {},
     "output_type": "display_data"
    }
   ],
   "source": [
    "with sns.axes_style('white'):\n",
    "    g = sns.catplot(x=\"year\", data=df, aspect=2,\n",
    "                       kind=\"count\", color='steelblue')\n",
    "    g.set_xticklabels(step=1)\n",
    "    g.set_ylabels(\"Number of jobs\")\n",
    "    \n",
    "    plt.savefig(\"plots/titan_num_job_temporal.png\")"
   ]
  },
  {
   "cell_type": "code",
   "execution_count": 115,
   "id": "d1c07689",
   "metadata": {
    "scrolled": false
   },
   "outputs": [
    {
     "data": {
      "image/png": "[encoded data removed]",
      "text/plain": [
       "<Figure size 803.5x360 with 1 Axes>"
      ]
     },
     "metadata": {},
     "output_type": "display_data"
    }
   ],
   "source": [
    "with sns.axes_style('white'):\n",
    "    g = sns.catplot(x=\"year\", data=df, aspect=2.0, kind='count',\n",
    "                       hue='keyword', order=range(2015, 2020))\n",
    "    g.set_ylabels('Number of Jobs')\n",
    "    \n",
    "    plt.savefig(\"plots/titan_temporal_keyword_wise.png\")"
   ]
  },
  {
   "cell_type": "code",
   "execution_count": 88,
   "id": "f9023778",
   "metadata": {},
   "outputs": [],
   "source": [
    "# TODO: Do the above, with GPU-only jobs instead of keyword-filtered jobs, to check the temporal trend\n",
    "# Do retrospective analysis as well"
   ]
  },
  {
   "cell_type": "markdown",
   "id": "44538a61",
   "metadata": {},
   "source": [
    "Radar chart comparisons\n",
    "===\n",
    "\n",
    "Radar chart after min-max normalisation (mean, median) for the following parameters, comparing across keywords\n",
    "* I/O: rchar, wchar\n",
    "* gpu_secs/duration: time the GPU was used on the job\n",
    "* "
   ]
  },
  {
   "cell_type": "code",
   "execution_count": 62,
   "id": "7fcc47ed",
   "metadata": {},
   "outputs": [],
   "source": [
    "normed = df.copy()\n",
    "\n",
    "normed[\"wchar\"] = (normed[\"wchar\"] - np.min(normed['wchar']))/(normed[\"wchar\"].max() - normed[\"wchar\"].min())\n",
    "normed[\"rchar\"] = (normed[\"rchar\"] - np.min(normed['rchar']))/(normed[\"rchar\"].max() - normed[\"rchar\"].min())\n",
    "normed[\"gpu_util\"] = (normed[\"gpu_util\"] - np.min(normed['gpu_util']))/(normed[\"gpu_util\"].max() - normed[\"gpu_util\"].min())"
   ]
  },
  {
   "cell_type": "code",
   "execution_count": null,
   "id": "9ad9836b",
   "metadata": {},
   "outputs": [],
   "source": [
    "# TODO: Remove outliers "
   ]
  },
  {
   "cell_type": "code",
   "execution_count": 75,
   "id": "bd5809e6",
   "metadata": {},
   "outputs": [
    {
     "data": {
      "text/plain": [
       "<AxesSubplot:>"
      ]
     },
     "execution_count": 75,
     "metadata": {},
     "output_type": "execute_result"
    },
    {
     "data": {
      "image/png": "[encoded data removed]",
      "text/plain": [
       "<Figure size 432x288 with 1 Axes>"
      ]
     },
     "metadata": {
      "needs_background": "light"
     },
     "output_type": "display_data"
    }
   ],
   "source": [
    "normed['wchar'].hist(bins=100)\n",
    "\n",
    "# Normalisation by min-max causes extreme skew and hence is not representative for radar chart"
   ]
  },
  {
   "cell_type": "code",
   "execution_count": 76,
   "id": "3845db07",
   "metadata": {},
   "outputs": [
    {
     "data": {
      "text/plain": [
       "<AxesSubplot:>"
      ]
     },
     "execution_count": 76,
     "metadata": {},
     "output_type": "execute_result"
    },
    {
     "data": {
      "image/png": "[encoded data removed]",
      "text/plain": [
       "<Figure size 432x288 with 1 Axes>"
      ]
     },
     "metadata": {
      "needs_background": "light"
     },
     "output_type": "display_data"
    }
   ],
   "source": [
    "normed['rchar'].hist(bins=100)"
   ]
  },
  {
   "cell_type": "markdown",
   "id": "b470045e",
   "metadata": {},
   "source": [
    "Retrospective Analysis\n",
    "==="
   ]
  },
  {
   "cell_type": "code",
   "execution_count": 73,
   "id": "f7ac742c",
   "metadata": {},
   "outputs": [],
   "source": [
    "titan = pd.read_csv(\"gpu_titan.csv\")"
   ]
  },
  {
   "cell_type": "code",
   "execution_count": 70,
   "id": "f704ef28",
   "metadata": {},
   "outputs": [
    {
     "data": {
      "text/html": [
       "<div>\n",
       "<style scoped>\n",
       "    .dataframe tbody tr th:only-of-type {\n",
       "        vertical-align: middle;\n",
       "    }\n",
       "\n",
       "    .dataframe tbody tr th {\n",
       "        vertical-align: top;\n",
       "    }\n",
       "\n",
       "    .dataframe thead th {\n",
       "        text-align: right;\n",
       "    }\n",
       "</style>\n",
       "<table border=\"1\" class=\"dataframe\">\n",
       "  <thead>\n",
       "    <tr style=\"text-align: right;\">\n",
       "      <th></th>\n",
       "      <th>wchar</th>\n",
       "      <th>rchar</th>\n",
       "      <th>gpu_util</th>\n",
       "    </tr>\n",
       "  </thead>\n",
       "  <tbody>\n",
       "    <tr>\n",
       "      <th>count</th>\n",
       "      <td>7.023000e+03</td>\n",
       "      <td>7.023000e+03</td>\n",
       "      <td>7023.000000</td>\n",
       "    </tr>\n",
       "    <tr>\n",
       "      <th>mean</th>\n",
       "      <td>1.439668e+10</td>\n",
       "      <td>7.042986e+10</td>\n",
       "      <td>53.599975</td>\n",
       "    </tr>\n",
       "    <tr>\n",
       "      <th>std</th>\n",
       "      <td>2.436152e+11</td>\n",
       "      <td>1.148335e+12</td>\n",
       "      <td>25.811600</td>\n",
       "    </tr>\n",
       "    <tr>\n",
       "      <th>min</th>\n",
       "      <td>3.230000e+02</td>\n",
       "      <td>8.813700e+04</td>\n",
       "      <td>0.093285</td>\n",
       "    </tr>\n",
       "    <tr>\n",
       "      <th>25%</th>\n",
       "      <td>1.804284e+08</td>\n",
       "      <td>1.103226e+09</td>\n",
       "      <td>34.081038</td>\n",
       "    </tr>\n",
       "    <tr>\n",
       "      <th>50%</th>\n",
       "      <td>4.288638e+08</td>\n",
       "      <td>2.695435e+10</td>\n",
       "      <td>57.860202</td>\n",
       "    </tr>\n",
       "    <tr>\n",
       "      <th>75%</th>\n",
       "      <td>9.442316e+08</td>\n",
       "      <td>4.546481e+10</td>\n",
       "      <td>75.976643</td>\n",
       "    </tr>\n",
       "    <tr>\n",
       "      <th>max</th>\n",
       "      <td>1.336599e+13</td>\n",
       "      <td>8.260796e+13</td>\n",
       "      <td>97.982470</td>\n",
       "    </tr>\n",
       "  </tbody>\n",
       "</table>\n",
       "</div>"
      ],
      "text/plain": [
       "              wchar         rchar     gpu_util\n",
       "count  7.023000e+03  7.023000e+03  7023.000000\n",
       "mean   1.439668e+10  7.042986e+10    53.599975\n",
       "std    2.436152e+11  1.148335e+12    25.811600\n",
       "min    3.230000e+02  8.813700e+04     0.093285\n",
       "25%    1.804284e+08  1.103226e+09    34.081038\n",
       "50%    4.288638e+08  2.695435e+10    57.860202\n",
       "75%    9.442316e+08  4.546481e+10    75.976643\n",
       "max    1.336599e+13  8.260796e+13    97.982470"
      ]
     },
     "execution_count": 70,
     "metadata": {},
     "output_type": "execute_result"
    }
   ],
   "source": [
    "df.loc[:, [\"wchar\", \"rchar\", \"gpu_util\"]].describe()"
   ]
  },
  {
   "cell_type": "code",
   "execution_count": 77,
   "id": "c67162f0",
   "metadata": {},
   "outputs": [
    {
     "data": {
      "text/html": [
       "<div>\n",
       "<style scoped>\n",
       "    .dataframe tbody tr th:only-of-type {\n",
       "        vertical-align: middle;\n",
       "    }\n",
       "\n",
       "    .dataframe tbody tr th {\n",
       "        vertical-align: top;\n",
       "    }\n",
       "\n",
       "    .dataframe thead th {\n",
       "        text-align: right;\n",
       "    }\n",
       "</style>\n",
       "<table border=\"1\" class=\"dataframe\">\n",
       "  <thead>\n",
       "    <tr style=\"text-align: right;\">\n",
       "      <th></th>\n",
       "      <th>stime</th>\n",
       "      <th>utime</th>\n",
       "      <th>alps_exit</th>\n",
       "      <th>alps_nppn</th>\n",
       "      <th>alps_width</th>\n",
       "      <th>alps_resid</th>\n",
       "      <th>aprun_id</th>\n",
       "      <th>node_count</th>\n",
       "      <th>max_rss</th>\n",
       "      <th>rchar</th>\n",
       "      <th>wchar</th>\n",
       "      <th>gpu_pids</th>\n",
       "      <th>gpu_secs</th>\n",
       "      <th>gpu_maxsecs</th>\n",
       "      <th>gpu_maxmem</th>\n",
       "      <th>gpu_summem</th>\n",
       "    </tr>\n",
       "  </thead>\n",
       "  <tbody>\n",
       "    <tr>\n",
       "      <th>count</th>\n",
       "      <td>1.905713e+06</td>\n",
       "      <td>1.905713e+06</td>\n",
       "      <td>1905713.0</td>\n",
       "      <td>1.905680e+06</td>\n",
       "      <td>1.905680e+06</td>\n",
       "      <td>1.905713e+06</td>\n",
       "      <td>1.905713e+06</td>\n",
       "      <td>1.905713e+06</td>\n",
       "      <td>1.905713e+06</td>\n",
       "      <td>1.905713e+06</td>\n",
       "      <td>1.905713e+06</td>\n",
       "      <td>1.905713e+06</td>\n",
       "      <td>1.905713e+06</td>\n",
       "      <td>1.905713e+06</td>\n",
       "      <td>1.905713e+06</td>\n",
       "      <td>1.905713e+06</td>\n",
       "    </tr>\n",
       "    <tr>\n",
       "      <th>mean</th>\n",
       "      <td>6.110437e+10</td>\n",
       "      <td>1.379941e+12</td>\n",
       "      <td>0.0</td>\n",
       "      <td>1.338585e+00</td>\n",
       "      <td>2.579591e+02</td>\n",
       "      <td>1.097210e+06</td>\n",
       "      <td>1.497607e+07</td>\n",
       "      <td>1.228590e+02</td>\n",
       "      <td>2.875373e+06</td>\n",
       "      <td>8.499546e+10</td>\n",
       "      <td>6.141548e+10</td>\n",
       "      <td>1.054707e+00</td>\n",
       "      <td>1.811825e+05</td>\n",
       "      <td>1.601176e+05</td>\n",
       "      <td>8.086439e+08</td>\n",
       "      <td>1.606391e+11</td>\n",
       "    </tr>\n",
       "    <tr>\n",
       "      <th>std</th>\n",
       "      <td>1.876021e+12</td>\n",
       "      <td>3.400208e+13</td>\n",
       "      <td>0.0</td>\n",
       "      <td>2.879640e+00</td>\n",
       "      <td>2.454503e+03</td>\n",
       "      <td>6.442733e+05</td>\n",
       "      <td>3.696523e+06</td>\n",
       "      <td>7.826638e+02</td>\n",
       "      <td>4.640312e+06</td>\n",
       "      <td>1.035981e+12</td>\n",
       "      <td>3.936757e+11</td>\n",
       "      <td>1.716733e+00</td>\n",
       "      <td>3.966507e+06</td>\n",
       "      <td>2.675397e+06</td>\n",
       "      <td>1.443080e+09</td>\n",
       "      <td>2.543956e+12</td>\n",
       "    </tr>\n",
       "    <tr>\n",
       "      <th>min</th>\n",
       "      <td>3.600000e+04</td>\n",
       "      <td>5.200000e+04</td>\n",
       "      <td>0.0</td>\n",
       "      <td>0.000000e+00</td>\n",
       "      <td>1.000000e+00</td>\n",
       "      <td>4.910000e+02</td>\n",
       "      <td>8.132363e+06</td>\n",
       "      <td>0.000000e+00</td>\n",
       "      <td>4.108000e+03</td>\n",
       "      <td>8.813700e+04</td>\n",
       "      <td>3.230000e+02</td>\n",
       "      <td>1.000000e+00</td>\n",
       "      <td>1.000000e+00</td>\n",
       "      <td>0.000000e+00</td>\n",
       "      <td>0.000000e+00</td>\n",
       "      <td>0.000000e+00</td>\n",
       "    </tr>\n",
       "    <tr>\n",
       "      <th>25%</th>\n",
       "      <td>2.621560e+08</td>\n",
       "      <td>3.490040e+09</td>\n",
       "      <td>0.0</td>\n",
       "      <td>0.000000e+00</td>\n",
       "      <td>1.000000e+00</td>\n",
       "      <td>4.484090e+05</td>\n",
       "      <td>1.140338e+07</td>\n",
       "      <td>1.000000e+00</td>\n",
       "      <td>2.070000e+05</td>\n",
       "      <td>1.125109e+08</td>\n",
       "      <td>3.450007e+07</td>\n",
       "      <td>1.000000e+00</td>\n",
       "      <td>5.650000e+02</td>\n",
       "      <td>5.640000e+02</td>\n",
       "      <td>0.000000e+00</td>\n",
       "      <td>0.000000e+00</td>\n",
       "    </tr>\n",
       "    <tr>\n",
       "      <th>50%</th>\n",
       "      <td>1.457540e+09</td>\n",
       "      <td>1.845051e+10</td>\n",
       "      <td>0.0</td>\n",
       "      <td>1.000000e+00</td>\n",
       "      <td>1.600000e+01</td>\n",
       "      <td>1.093553e+06</td>\n",
       "      <td>1.567302e+07</td>\n",
       "      <td>6.000000e+00</td>\n",
       "      <td>3.824680e+05</td>\n",
       "      <td>2.169968e+09</td>\n",
       "      <td>1.151269e+09</td>\n",
       "      <td>1.000000e+00</td>\n",
       "      <td>4.344000e+03</td>\n",
       "      <td>4.336000e+03</td>\n",
       "      <td>2.023752e+08</td>\n",
       "      <td>1.129710e+09</td>\n",
       "    </tr>\n",
       "    <tr>\n",
       "      <th>75%</th>\n",
       "      <td>1.447653e+10</td>\n",
       "      <td>2.108499e+11</td>\n",
       "      <td>0.0</td>\n",
       "      <td>1.000000e+00</td>\n",
       "      <td>8.000000e+01</td>\n",
       "      <td>1.675343e+06</td>\n",
       "      <td>1.831694e+07</td>\n",
       "      <td>3.200000e+01</td>\n",
       "      <td>3.178532e+06</td>\n",
       "      <td>2.327605e+10</td>\n",
       "      <td>2.029134e+10</td>\n",
       "      <td>1.000000e+00</td>\n",
       "      <td>2.537700e+04</td>\n",
       "      <td>2.536800e+04</td>\n",
       "      <td>4.658299e+08</td>\n",
       "      <td>2.643984e+10</td>\n",
       "    </tr>\n",
       "    <tr>\n",
       "      <th>max</th>\n",
       "      <td>9.057737e+14</td>\n",
       "      <td>9.065901e+15</td>\n",
       "      <td>0.0</td>\n",
       "      <td>1.600000e+01</td>\n",
       "      <td>2.976000e+05</td>\n",
       "      <td>2.331945e+06</td>\n",
       "      <td>2.138795e+07</td>\n",
       "      <td>1.868800e+04</td>\n",
       "      <td>3.111352e+07</td>\n",
       "      <td>8.205459e+13</td>\n",
       "      <td>1.336599e+13</td>\n",
       "      <td>1.280000e+02</td>\n",
       "      <td>2.339094e+09</td>\n",
       "      <td>4.690825e+08</td>\n",
       "      <td>6.004933e+09</td>\n",
       "      <td>1.987202e+15</td>\n",
       "    </tr>\n",
       "  </tbody>\n",
       "</table>\n",
       "</div>"
      ],
      "text/plain": [
       "              stime         utime  alps_exit     alps_nppn    alps_width  \\\n",
       "count  1.905713e+06  1.905713e+06  1905713.0  1.905680e+06  1.905680e+06   \n",
       "mean   6.110437e+10  1.379941e+12        0.0  1.338585e+00  2.579591e+02   \n",
       "std    1.876021e+12  3.400208e+13        0.0  2.879640e+00  2.454503e+03   \n",
       "min    3.600000e+04  5.200000e+04        0.0  0.000000e+00  1.000000e+00   \n",
       "25%    2.621560e+08  3.490040e+09        0.0  0.000000e+00  1.000000e+00   \n",
       "50%    1.457540e+09  1.845051e+10        0.0  1.000000e+00  1.600000e+01   \n",
       "75%    1.447653e+10  2.108499e+11        0.0  1.000000e+00  8.000000e+01   \n",
       "max    9.057737e+14  9.065901e+15        0.0  1.600000e+01  2.976000e+05   \n",
       "\n",
       "         alps_resid      aprun_id    node_count       max_rss         rchar  \\\n",
       "count  1.905713e+06  1.905713e+06  1.905713e+06  1.905713e+06  1.905713e+06   \n",
       "mean   1.097210e+06  1.497607e+07  1.228590e+02  2.875373e+06  8.499546e+10   \n",
       "std    6.442733e+05  3.696523e+06  7.826638e+02  4.640312e+06  1.035981e+12   \n",
       "min    4.910000e+02  8.132363e+06  0.000000e+00  4.108000e+03  8.813700e+04   \n",
       "25%    4.484090e+05  1.140338e+07  1.000000e+00  2.070000e+05  1.125109e+08   \n",
       "50%    1.093553e+06  1.567302e+07  6.000000e+00  3.824680e+05  2.169968e+09   \n",
       "75%    1.675343e+06  1.831694e+07  3.200000e+01  3.178532e+06  2.327605e+10   \n",
       "max    2.331945e+06  2.138795e+07  1.868800e+04  3.111352e+07  8.205459e+13   \n",
       "\n",
       "              wchar      gpu_pids      gpu_secs   gpu_maxsecs    gpu_maxmem  \\\n",
       "count  1.905713e+06  1.905713e+06  1.905713e+06  1.905713e+06  1.905713e+06   \n",
       "mean   6.141548e+10  1.054707e+00  1.811825e+05  1.601176e+05  8.086439e+08   \n",
       "std    3.936757e+11  1.716733e+00  3.966507e+06  2.675397e+06  1.443080e+09   \n",
       "min    3.230000e+02  1.000000e+00  1.000000e+00  0.000000e+00  0.000000e+00   \n",
       "25%    3.450007e+07  1.000000e+00  5.650000e+02  5.640000e+02  0.000000e+00   \n",
       "50%    1.151269e+09  1.000000e+00  4.344000e+03  4.336000e+03  2.023752e+08   \n",
       "75%    2.029134e+10  1.000000e+00  2.537700e+04  2.536800e+04  4.658299e+08   \n",
       "max    1.336599e+13  1.280000e+02  2.339094e+09  4.690825e+08  6.004933e+09   \n",
       "\n",
       "         gpu_summem  \n",
       "count  1.905713e+06  \n",
       "mean   1.606391e+11  \n",
       "std    2.543956e+12  \n",
       "min    0.000000e+00  \n",
       "25%    0.000000e+00  \n",
       "50%    1.129710e+09  \n",
       "75%    2.643984e+10  \n",
       "max    1.987202e+15  "
      ]
     },
     "execution_count": 77,
     "metadata": {},
     "output_type": "execute_result"
    }
   ],
   "source": [
    "titan.describe()"
   ]
  },
  {
   "cell_type": "code",
   "execution_count": 75,
   "id": "18ad8eb7",
   "metadata": {},
   "outputs": [],
   "source": [
    "titan.drop(\"Unnamed: 0\", axis=1, inplace=True)"
   ]
  },
  {
   "cell_type": "code",
   "execution_count": 76,
   "id": "7faeb119",
   "metadata": {},
   "outputs": [
    {
     "data": {
      "text/html": [
       "<div>\n",
       "<style scoped>\n",
       "    .dataframe tbody tr th:only-of-type {\n",
       "        vertical-align: middle;\n",
       "    }\n",
       "\n",
       "    .dataframe tbody tr th {\n",
       "        vertical-align: top;\n",
       "    }\n",
       "\n",
       "    .dataframe thead th {\n",
       "        text-align: right;\n",
       "    }\n",
       "</style>\n",
       "<table border=\"1\" class=\"dataframe\">\n",
       "  <thead>\n",
       "    <tr style=\"text-align: right;\">\n",
       "      <th></th>\n",
       "      <th>user_id</th>\n",
       "      <th>start_time</th>\n",
       "      <th>end_time</th>\n",
       "      <th>stime</th>\n",
       "      <th>utime</th>\n",
       "      <th>alps_exit</th>\n",
       "      <th>alps_nppn</th>\n",
       "      <th>alps_width</th>\n",
       "      <th>alps_resid</th>\n",
       "      <th>aprun_id</th>\n",
       "      <th>...</th>\n",
       "      <th>node_count</th>\n",
       "      <th>max_rss</th>\n",
       "      <th>rchar</th>\n",
       "      <th>wchar</th>\n",
       "      <th>gpu_mode</th>\n",
       "      <th>gpu_pids</th>\n",
       "      <th>gpu_secs</th>\n",
       "      <th>gpu_maxsecs</th>\n",
       "      <th>gpu_maxmem</th>\n",
       "      <th>gpu_summem</th>\n",
       "    </tr>\n",
       "  </thead>\n",
       "  <tbody>\n",
       "    <tr>\n",
       "      <th>0</th>\n",
       "      <td>User118</td>\n",
       "      <td>2015-03-26 18:38:16.603929</td>\n",
       "      <td>2015-03-26 23:42:40.128085</td>\n",
       "      <td>1.598528e+10</td>\n",
       "      <td>3.137974e+10</td>\n",
       "      <td>0.0</td>\n",
       "      <td>1.0</td>\n",
       "      <td>16.0</td>\n",
       "      <td>25048.0</td>\n",
       "      <td>8231766.0</td>\n",
       "      <td>...</td>\n",
       "      <td>16.0</td>\n",
       "      <td>716264.0</td>\n",
       "      <td>3.071122e+08</td>\n",
       "      <td>3.880343e+09</td>\n",
       "      <td>exclusive_process</td>\n",
       "      <td>1.0</td>\n",
       "      <td>119053.0</td>\n",
       "      <td>119053.0</td>\n",
       "      <td>3.274179e+08</td>\n",
       "      <td>3.908043e+09</td>\n",
       "    </tr>\n",
       "    <tr>\n",
       "      <th>1</th>\n",
       "      <td>User1423</td>\n",
       "      <td>2017-02-22 17:32:56.408987</td>\n",
       "      <td>2017-02-22 19:19:57.105969</td>\n",
       "      <td>6.292760e+08</td>\n",
       "      <td>6.151264e+09</td>\n",
       "      <td>0.0</td>\n",
       "      <td>0.0</td>\n",
       "      <td>1.0</td>\n",
       "      <td>787369.0</td>\n",
       "      <td>13791357.0</td>\n",
       "      <td>...</td>\n",
       "      <td>1.0</td>\n",
       "      <td>208640.0</td>\n",
       "      <td>6.942068e+09</td>\n",
       "      <td>6.957689e+09</td>\n",
       "      <td>exclusive_process</td>\n",
       "      <td>1.0</td>\n",
       "      <td>5196.0</td>\n",
       "      <td>5196.0</td>\n",
       "      <td>2.049966e+08</td>\n",
       "      <td>2.049966e+08</td>\n",
       "    </tr>\n",
       "    <tr>\n",
       "      <th>2</th>\n",
       "      <td>User788</td>\n",
       "      <td>2018-03-10 05:30:23.365941</td>\n",
       "      <td>2018-03-10 05:30:29.107763</td>\n",
       "      <td>1.959680e+08</td>\n",
       "      <td>6.445760e+08</td>\n",
       "      <td>0.0</td>\n",
       "      <td>1.0</td>\n",
       "      <td>313.0</td>\n",
       "      <td>1433167.0</td>\n",
       "      <td>17008379.0</td>\n",
       "      <td>...</td>\n",
       "      <td>313.0</td>\n",
       "      <td>87644.0</td>\n",
       "      <td>7.372947e+08</td>\n",
       "      <td>1.174674e+08</td>\n",
       "      <td>exclusive_process</td>\n",
       "      <td>1.0</td>\n",
       "      <td>230.0</td>\n",
       "      <td>230.0</td>\n",
       "      <td>2.680422e+08</td>\n",
       "      <td>8.389722e+10</td>\n",
       "    </tr>\n",
       "    <tr>\n",
       "      <th>3</th>\n",
       "      <td>User1027</td>\n",
       "      <td>2019-03-16 12:42:19.677058</td>\n",
       "      <td>2019-03-16 13:55:20.155157</td>\n",
       "      <td>3.311149e+10</td>\n",
       "      <td>1.858040e+11</td>\n",
       "      <td>0.0</td>\n",
       "      <td>1.0</td>\n",
       "      <td>50.0</td>\n",
       "      <td>2027448.0</td>\n",
       "      <td>19972019.0</td>\n",
       "      <td>...</td>\n",
       "      <td>50.0</td>\n",
       "      <td>491076.0</td>\n",
       "      <td>1.676459e+09</td>\n",
       "      <td>7.913983e+09</td>\n",
       "      <td>exclusive_process</td>\n",
       "      <td>1.0</td>\n",
       "      <td>212184.0</td>\n",
       "      <td>212184.0</td>\n",
       "      <td>0.000000e+00</td>\n",
       "      <td>0.000000e+00</td>\n",
       "    </tr>\n",
       "    <tr>\n",
       "      <th>4</th>\n",
       "      <td>User788</td>\n",
       "      <td>2017-12-20 21:51:06.645546</td>\n",
       "      <td>2017-12-20 21:51:11.998533</td>\n",
       "      <td>4.416000e+07</td>\n",
       "      <td>1.931400e+08</td>\n",
       "      <td>0.0</td>\n",
       "      <td>1.0</td>\n",
       "      <td>80.0</td>\n",
       "      <td>1327972.0</td>\n",
       "      <td>16502708.0</td>\n",
       "      <td>...</td>\n",
       "      <td>80.0</td>\n",
       "      <td>87644.0</td>\n",
       "      <td>1.635935e+08</td>\n",
       "      <td>8.024707e+06</td>\n",
       "      <td>exclusive_process</td>\n",
       "      <td>1.0</td>\n",
       "      <td>80.0</td>\n",
       "      <td>80.0</td>\n",
       "      <td>2.669937e+08</td>\n",
       "      <td>1.485832e+10</td>\n",
       "    </tr>\n",
       "    <tr>\n",
       "      <th>...</th>\n",
       "      <td>...</td>\n",
       "      <td>...</td>\n",
       "      <td>...</td>\n",
       "      <td>...</td>\n",
       "      <td>...</td>\n",
       "      <td>...</td>\n",
       "      <td>...</td>\n",
       "      <td>...</td>\n",
       "      <td>...</td>\n",
       "      <td>...</td>\n",
       "      <td>...</td>\n",
       "      <td>...</td>\n",
       "      <td>...</td>\n",
       "      <td>...</td>\n",
       "      <td>...</td>\n",
       "      <td>...</td>\n",
       "      <td>...</td>\n",
       "      <td>...</td>\n",
       "      <td>...</td>\n",
       "      <td>...</td>\n",
       "      <td>...</td>\n",
       "    </tr>\n",
       "    <tr>\n",
       "      <th>1947799</th>\n",
       "      <td>User788</td>\n",
       "      <td>2018-03-02 16:24:47.082998</td>\n",
       "      <td>2018-03-02 16:25:30.836761</td>\n",
       "      <td>5.215480e+08</td>\n",
       "      <td>1.221446e+10</td>\n",
       "      <td>0.0</td>\n",
       "      <td>1.0</td>\n",
       "      <td>313.0</td>\n",
       "      <td>1422686.0</td>\n",
       "      <td>16917625.0</td>\n",
       "      <td>...</td>\n",
       "      <td>313.0</td>\n",
       "      <td>87644.0</td>\n",
       "      <td>3.780084e+09</td>\n",
       "      <td>3.158824e+09</td>\n",
       "      <td>exclusive_process</td>\n",
       "      <td>1.0</td>\n",
       "      <td>6260.0</td>\n",
       "      <td>6260.0</td>\n",
       "      <td>2.680422e+08</td>\n",
       "      <td>8.389722e+10</td>\n",
       "    </tr>\n",
       "    <tr>\n",
       "      <th>1947800</th>\n",
       "      <td>User12</td>\n",
       "      <td>2015-03-26 23:10:55.152058</td>\n",
       "      <td>2015-03-27 00:04:48.350134</td>\n",
       "      <td>7.739448e+10</td>\n",
       "      <td>3.235141e+12</td>\n",
       "      <td>0.0</td>\n",
       "      <td>8.0</td>\n",
       "      <td>1024.0</td>\n",
       "      <td>25308.0</td>\n",
       "      <td>8232671.0</td>\n",
       "      <td>...</td>\n",
       "      <td>128.0</td>\n",
       "      <td>224140.0</td>\n",
       "      <td>6.581210e+10</td>\n",
       "      <td>6.834197e+10</td>\n",
       "      <td>exclusive_process</td>\n",
       "      <td>1.0</td>\n",
       "      <td>20608.0</td>\n",
       "      <td>20608.0</td>\n",
       "      <td>1.938555e+08</td>\n",
       "      <td>2.472634e+10</td>\n",
       "    </tr>\n",
       "    <tr>\n",
       "      <th>1947801</th>\n",
       "      <td>User118</td>\n",
       "      <td>2015-03-26 18:38:16.610327</td>\n",
       "      <td>2015-03-26 23:43:30.752751</td>\n",
       "      <td>1.601420e+10</td>\n",
       "      <td>1.497699e+10</td>\n",
       "      <td>0.0</td>\n",
       "      <td>1.0</td>\n",
       "      <td>16.0</td>\n",
       "      <td>25048.0</td>\n",
       "      <td>8231768.0</td>\n",
       "      <td>...</td>\n",
       "      <td>16.0</td>\n",
       "      <td>714560.0</td>\n",
       "      <td>3.401807e+08</td>\n",
       "      <td>3.867688e+09</td>\n",
       "      <td>exclusive_process</td>\n",
       "      <td>1.0</td>\n",
       "      <td>119020.0</td>\n",
       "      <td>119020.0</td>\n",
       "      <td>2.977956e+08</td>\n",
       "      <td>3.781951e+09</td>\n",
       "    </tr>\n",
       "    <tr>\n",
       "      <th>1947802</th>\n",
       "      <td>User1423</td>\n",
       "      <td>2017-02-22 17:32:56.473565</td>\n",
       "      <td>2017-02-22 19:21:12.854440</td>\n",
       "      <td>6.339800e+08</td>\n",
       "      <td>6.190984e+09</td>\n",
       "      <td>0.0</td>\n",
       "      <td>0.0</td>\n",
       "      <td>1.0</td>\n",
       "      <td>787369.0</td>\n",
       "      <td>13791355.0</td>\n",
       "      <td>...</td>\n",
       "      <td>1.0</td>\n",
       "      <td>208636.0</td>\n",
       "      <td>6.952131e+09</td>\n",
       "      <td>6.967747e+09</td>\n",
       "      <td>exclusive_process</td>\n",
       "      <td>1.0</td>\n",
       "      <td>5193.0</td>\n",
       "      <td>5193.0</td>\n",
       "      <td>2.082734e+08</td>\n",
       "      <td>2.082734e+08</td>\n",
       "    </tr>\n",
       "    <tr>\n",
       "      <th>1947803</th>\n",
       "      <td>User752</td>\n",
       "      <td>2018-03-02 12:01:42.124035</td>\n",
       "      <td>2018-03-02 13:37:02.273042</td>\n",
       "      <td>1.308076e+10</td>\n",
       "      <td>3.614329e+12</td>\n",
       "      <td>0.0</td>\n",
       "      <td>0.0</td>\n",
       "      <td>257.0</td>\n",
       "      <td>1422531.0</td>\n",
       "      <td>16916082.0</td>\n",
       "      <td>...</td>\n",
       "      <td>194.0</td>\n",
       "      <td>225876.0</td>\n",
       "      <td>4.393575e+10</td>\n",
       "      <td>3.936515e+10</td>\n",
       "      <td>exclusive_process</td>\n",
       "      <td>1.0</td>\n",
       "      <td>41722.0</td>\n",
       "      <td>41722.0</td>\n",
       "      <td>2.775581e+09</td>\n",
       "      <td>4.733507e+11</td>\n",
       "    </tr>\n",
       "  </tbody>\n",
       "</table>\n",
       "<p>1905713 rows × 21 columns</p>\n",
       "</div>"
      ],
      "text/plain": [
       "          user_id                  start_time                    end_time  \\\n",
       "0         User118  2015-03-26 18:38:16.603929  2015-03-26 23:42:40.128085   \n",
       "1        User1423  2017-02-22 17:32:56.408987  2017-02-22 19:19:57.105969   \n",
       "2         User788  2018-03-10 05:30:23.365941  2018-03-10 05:30:29.107763   \n",
       "3        User1027  2019-03-16 12:42:19.677058  2019-03-16 13:55:20.155157   \n",
       "4         User788  2017-12-20 21:51:06.645546  2017-12-20 21:51:11.998533   \n",
       "...           ...                         ...                         ...   \n",
       "1947799   User788  2018-03-02 16:24:47.082998  2018-03-02 16:25:30.836761   \n",
       "1947800    User12  2015-03-26 23:10:55.152058  2015-03-27 00:04:48.350134   \n",
       "1947801   User118  2015-03-26 18:38:16.610327  2015-03-26 23:43:30.752751   \n",
       "1947802  User1423  2017-02-22 17:32:56.473565  2017-02-22 19:21:12.854440   \n",
       "1947803   User752  2018-03-02 12:01:42.124035  2018-03-02 13:37:02.273042   \n",
       "\n",
       "                stime         utime  alps_exit  alps_nppn  alps_width  \\\n",
       "0        1.598528e+10  3.137974e+10        0.0        1.0        16.0   \n",
       "1        6.292760e+08  6.151264e+09        0.0        0.0         1.0   \n",
       "2        1.959680e+08  6.445760e+08        0.0        1.0       313.0   \n",
       "3        3.311149e+10  1.858040e+11        0.0        1.0        50.0   \n",
       "4        4.416000e+07  1.931400e+08        0.0        1.0        80.0   \n",
       "...               ...           ...        ...        ...         ...   \n",
       "1947799  5.215480e+08  1.221446e+10        0.0        1.0       313.0   \n",
       "1947800  7.739448e+10  3.235141e+12        0.0        8.0      1024.0   \n",
       "1947801  1.601420e+10  1.497699e+10        0.0        1.0        16.0   \n",
       "1947802  6.339800e+08  6.190984e+09        0.0        0.0         1.0   \n",
       "1947803  1.308076e+10  3.614329e+12        0.0        0.0       257.0   \n",
       "\n",
       "         alps_resid    aprun_id  ... node_count   max_rss         rchar  \\\n",
       "0           25048.0   8231766.0  ...       16.0  716264.0  3.071122e+08   \n",
       "1          787369.0  13791357.0  ...        1.0  208640.0  6.942068e+09   \n",
       "2         1433167.0  17008379.0  ...      313.0   87644.0  7.372947e+08   \n",
       "3         2027448.0  19972019.0  ...       50.0  491076.0  1.676459e+09   \n",
       "4         1327972.0  16502708.0  ...       80.0   87644.0  1.635935e+08   \n",
       "...             ...         ...  ...        ...       ...           ...   \n",
       "1947799   1422686.0  16917625.0  ...      313.0   87644.0  3.780084e+09   \n",
       "1947800     25308.0   8232671.0  ...      128.0  224140.0  6.581210e+10   \n",
       "1947801     25048.0   8231768.0  ...       16.0  714560.0  3.401807e+08   \n",
       "1947802    787369.0  13791355.0  ...        1.0  208636.0  6.952131e+09   \n",
       "1947803   1422531.0  16916082.0  ...      194.0  225876.0  4.393575e+10   \n",
       "\n",
       "                wchar           gpu_mode gpu_pids  gpu_secs  gpu_maxsecs  \\\n",
       "0        3.880343e+09  exclusive_process      1.0  119053.0     119053.0   \n",
       "1        6.957689e+09  exclusive_process      1.0    5196.0       5196.0   \n",
       "2        1.174674e+08  exclusive_process      1.0     230.0        230.0   \n",
       "3        7.913983e+09  exclusive_process      1.0  212184.0     212184.0   \n",
       "4        8.024707e+06  exclusive_process      1.0      80.0         80.0   \n",
       "...               ...                ...      ...       ...          ...   \n",
       "1947799  3.158824e+09  exclusive_process      1.0    6260.0       6260.0   \n",
       "1947800  6.834197e+10  exclusive_process      1.0   20608.0      20608.0   \n",
       "1947801  3.867688e+09  exclusive_process      1.0  119020.0     119020.0   \n",
       "1947802  6.967747e+09  exclusive_process      1.0    5193.0       5193.0   \n",
       "1947803  3.936515e+10  exclusive_process      1.0   41722.0      41722.0   \n",
       "\n",
       "           gpu_maxmem    gpu_summem  \n",
       "0        3.274179e+08  3.908043e+09  \n",
       "1        2.049966e+08  2.049966e+08  \n",
       "2        2.680422e+08  8.389722e+10  \n",
       "3        0.000000e+00  0.000000e+00  \n",
       "4        2.669937e+08  1.485832e+10  \n",
       "...               ...           ...  \n",
       "1947799  2.680422e+08  8.389722e+10  \n",
       "1947800  1.938555e+08  2.472634e+10  \n",
       "1947801  2.977956e+08  3.781951e+09  \n",
       "1947802  2.082734e+08  2.082734e+08  \n",
       "1947803  2.775581e+09  4.733507e+11  \n",
       "\n",
       "[1905713 rows x 21 columns]"
      ]
     },
     "execution_count": 76,
     "metadata": {},
     "output_type": "execute_result"
    }
   ],
   "source": [
    "cond1 = (titan['wchar'] >= 3.23e2) & (titan['wchar'] <= 1.336599e+13)\n",
    "cond2 = (titan['rchar'] >= 8.8137e4) & (titan['rchar'] <= 8.260796e+13)\n",
    "\n",
    "titan = titan[cond1 & cond2]\n",
    "titan"
   ]
  },
  {
   "cell_type": "code",
   "execution_count": null,
   "id": "8ea4d5e0",
   "metadata": {},
   "outputs": [],
   "source": []
  }
 ],
 "metadata": {
  "kernelspec": {
   "display_name": "Python 3 (ipykernel)",
   "language": "python",
   "name": "python3"
  },
  "language_info": {
   "codemirror_mode": {
    "name": "ipython",
    "version": 3
   },
   "file_extension": ".py",
   "mimetype": "text/x-python",
   "name": "python",
   "nbconvert_exporter": "python",
   "pygments_lexer": "ipython3",
   "version": "3.9.9"
  }
 },
 "nbformat": 4,
 "nbformat_minor": 5
}
